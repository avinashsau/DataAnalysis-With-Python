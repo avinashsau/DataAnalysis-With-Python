{
 "cells": [
  {
   "attachments": {
    "b7efba1c-aef7-4934-98a9-2b6ce19d72b0.png": {
     "image/png": "[encoded data removed]"
    }
   },
   "cell_type": "markdown",
   "id": "74cbd463-2557-4f7e-82fc-a425c69d7113",
   "metadata": {},
   "source": [
    "Day 9: Analyze a One-Dimensional Array\n",
    "In this challenge, you are going to create an array from a\n",
    "list. Why should you use an array instead of a Python list?\n",
    "The NumPy Series provides better performance, easier\n",
    "manipulation and indexing, and better interoperability\n",
    "with other scientific libraries, making them a preferred\n",
    "choice for scientific and data analysis applications. They\n",
    "also have better memory management than Python lists.\n",
    "\n",
    "![image.png](attachment:b7efba1c-aef7-4934-98a9-2b6ce19d72b0.png)\n",
    "\n",
    "1. Create a NumPy one-dimensional array with the list above.\n",
    "2. Using NumPy, write code that returns the minimum\n",
    "number in the array.\n",
    "3. Write a code that returns the index of the largest number\n",
    "in the array.\n",
    "4. Using NumPy, calculate the average of the biggest and\n",
    "smallest numbers in the array.\n",
    "5. Write a code to find the mean, median, and standard\n",
    "deviation of the array.\n",
    "6. Write code to find the outlier in the array above."
   ]
  },
  {
   "cell_type": "markdown",
   "id": "34709137-a87f-4c63-8384-8683ce5b447a",
   "metadata": {},
   "source": [
    "## Task 1\n",
    "Create a NumPy one-dimensional array with the list above."
   ]
  },
  {
   "cell_type": "code",
   "execution_count": 1,
   "id": "ab3afa2c-f49e-413b-a2d0-2780e84905db",
   "metadata": {},
   "outputs": [
    {
     "data": {
      "text/plain": [
       "array([12,  4,  6,  7,  9, 19, 21, 67,  8])"
      ]
     },
     "execution_count": 1,
     "metadata": {},
     "output_type": "execute_result"
    }
   ],
   "source": [
    "import numpy as np\n",
    "\n",
    "nums = [12, 4, 6, 7, 9, 19, 21, 67, 8]\n",
    "nums_array = np.array(nums)\n",
    "nums_array"
   ]
  },
  {
   "cell_type": "markdown",
   "id": "9e5e6bf6-491d-4b0f-83f5-7d6c7df514da",
   "metadata": {},
   "source": [
    "## Task 2\n",
    "Using NumPy, write code that returns the minimum number in the array."
   ]
  },
  {
   "cell_type": "code",
   "execution_count": 8,
   "id": "a4156acf-f03d-4c65-b866-009d503678ae",
   "metadata": {},
   "outputs": [
    {
     "name": "stdout",
     "output_type": "stream",
     "text": [
      "The minimum number of the array is :  4\n"
     ]
    }
   ],
   "source": [
    "min_num = nums_array.min()\n",
    "print(\"The minimum number of the array is : \", min_num)"
   ]
  },
  {
   "cell_type": "markdown",
   "id": "627c960a-7ebe-4fd4-8b7b-7b016a8af073",
   "metadata": {},
   "source": [
    "## Task 3\n",
    "Write a code that returns the index of the largest number in the array."
   ]
  },
  {
   "cell_type": "code",
   "execution_count": 12,
   "id": "38a7a933-7fda-4645-a1c6-407b2bdccb61",
   "metadata": {},
   "outputs": [
    {
     "name": "stdout",
     "output_type": "stream",
     "text": [
      "The index of the largest number is 7\n"
     ]
    }
   ],
   "source": [
    "# Numpy has \"np.argmax()\" function that we can use to return the index of a number from an array\n",
    "nums_array\n",
    "max_index = np.argmax(nums_array)\n",
    "print(f'The index of the largest number is {max_index}')"
   ]
  },
  {
   "cell_type": "markdown",
   "id": "b81e05a4-6c3e-47e2-9bd5-d51b10af9255",
   "metadata": {},
   "source": [
    "## Task 4\n",
    "Using NumPy, calculate the average of the biggest and smallest numbers in the array."
   ]
  },
  {
   "cell_type": "code",
   "execution_count": 18,
   "id": "e5e1f434-c8fc-4a6f-bf68-392f3df73c79",
   "metadata": {},
   "outputs": [
    {
     "name": "stdout",
     "output_type": "stream",
     "text": [
      "The average of Min and Max is :  35.5\n",
      "the average of Min and Max is :  35.5\n"
     ]
    }
   ],
   "source": [
    "min_num = nums_array.min()\n",
    "max_num = nums_array.max()\n",
    "#min_num, max_num\n",
    "avg = np.mean([min_num, max_num])\n",
    "print(\"The average of Min and Max is : \", avg)\n",
    "# OR\n",
    "average = np.array([min_num, max_num]).mean()\n",
    "print(\"the average of Min and Max is : \", average)"
   ]
  },
  {
   "cell_type": "markdown",
   "id": "fa99d271-9d7b-4170-9c9b-9b32ec3557b7",
   "metadata": {},
   "source": [
    "## Task 5\n",
    "Write a code to find the mean, median, and standard deviation of the array.\n"
   ]
  },
  {
   "cell_type": "code",
   "execution_count": 23,
   "id": "866155ec-f13b-4724-a967-d7f850c4297b",
   "metadata": {},
   "outputs": [
    {
     "name": "stdout",
     "output_type": "stream",
     "text": [
      "Mean is :  17.0\n",
      "Median is :  9.0\n",
      "Standard Deviation is :  18.499249234015476\n"
     ]
    }
   ],
   "source": [
    "mean_val = np.mean(nums_array)\n",
    "median_val = np.median(nums_array)\n",
    "sdev_val = np.std(nums_array)\n",
    "\n",
    "print(\"Mean is : \", mean_val)\n",
    "print(\"Median is : \", median_val)\n",
    "print(\"Standard Deviation is : \",sdev_val)"
   ]
  },
  {
   "cell_type": "markdown",
   "id": "9e891040-6977-4483-aa0a-4c31622d5b0f",
   "metadata": {},
   "source": [
    "## Task 6\n",
    "Write code to find the outlier in the array above."
   ]
  },
  {
   "cell_type": "markdown",
   "id": "26428bd7-e350-4059-b934-75554fc8ad7c",
   "metadata": {},
   "source": [
    "# To find the outlier of the array using NumPy, you can\n",
    "calculate the lower and upper bounds of the data using the\n",
    "Interquartile Range (IQR) method. Outliers are defined as\n",
    "any values that are more than 1.5 times the IQR outside of\n",
    "the lower or upper quartile. We can use the np.percentile()\n",
    "function to find the lower and upper quartiles, and then use\n",
    "these values to calculate the IQR, and subsequently the\n",
    "lower and upper bounds. The IQR is the difference between\n",
    "the upper quartile and the lower quartile. It represents the\n",
    "spread of the middle 50% of the data. The lower bound is\n",
    "calculated as the lower quartile (q1) minus 1.5 times the\n",
    "IQR, and the upper bound is calculated as the upper\n",
    "quartile (q3) plus 1.5 times the IQR. Here is the code below:"
   ]
  },
  {
   "cell_type": "code",
   "execution_count": 26,
   "id": "2d8ffab2-23c2-40e4-9f7f-6e585415829f",
   "metadata": {},
   "outputs": [
    {
     "data": {
      "text/plain": [
       "[67]"
      ]
     },
     "execution_count": 26,
     "metadata": {},
     "output_type": "execute_result"
    }
   ],
   "source": [
    "# sort the Array First\n",
    "sorted_array = np.sort(nums_array)\n",
    "\n",
    "def calculate_outlier(array):\n",
    "    q1 = np.percentile(sorted_array, 25)\n",
    "    q3 = np.percentile(sorted_array, 75)\n",
    "    iqr = q3 - q1\n",
    "    lower_bound = q1 - 1.5 * iqr\n",
    "    upper_bound = q3 + 1.5 * iqr\n",
    "    outliers = [x for x in sorted_array if x< lower_bound or x > upper_bound]\n",
    "    return outliers\n",
    "\n",
    "calculate_outlier(sorted_array)"
   ]
  },
  {
   "cell_type": "code",
   "execution_count": null,
   "id": "ac62aeac-d756-4abe-9ed8-512d8af6fb6a",
   "metadata": {},
   "outputs": [],
   "source": []
  }
 ],
 "metadata": {
  "kernelspec": {
   "display_name": "Python 3 (ipykernel)",
   "language": "python",
   "name": "python3"
  },
  "language_info": {
   "codemirror_mode": {
    "name": "ipython",
    "version": 3
   },
   "file_extension": ".py",
   "mimetype": "text/x-python",
   "name": "python",
   "nbconvert_exporter": "python",
   "pygments_lexer": "ipython3",
   "version": "3.12.0"
  }
 },
 "nbformat": 4,
 "nbformat_minor": 5
}
