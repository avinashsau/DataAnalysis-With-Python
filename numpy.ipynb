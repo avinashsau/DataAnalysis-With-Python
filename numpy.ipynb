{
 "cells": [
  {
   "cell_type": "markdown",
   "id": "d4475f2f-510a-4543-8b47-f6b01fdf1000",
   "metadata": {},
   "source": [
    "Creating a NumPy Array\n",
    "\n",
    "Lets create a one dimensional Array(below). "
   ]
  },
  {
   "cell_type": "code",
   "execution_count": 2,
   "id": "45048458-2d84-44c3-9937-61f3e8395481",
   "metadata": {},
   "outputs": [
    {
     "data": {
      "text/plain": [
       "array([1, 2, 3, 4, 5])"
      ]
     },
     "execution_count": 2,
     "metadata": {},
     "output_type": "execute_result"
    }
   ],
   "source": [
    "import numpy as np\n",
    "list = [1,2,3,4,5]\n",
    "array1 = np.array(list)\n",
    "array1"
   ]
  },
  {
   "cell_type": "markdown",
   "id": "8f560583-4c29-4029-a290-5e12b92af58c",
   "metadata": {},
   "source": [
    "the data type is inferred from the data itself.\n",
    "- We can set the datatype using \"dtype\"parameter"
   ]
  },
  {
   "cell_type": "code",
   "execution_count": 3,
   "id": "5a3c5c5f-870c-4f09-936f-181b722452ec",
   "metadata": {},
   "outputs": [
    {
     "data": {
      "text/plain": [
       "array([1., 2., 3., 4., 5., 6., 7.])"
      ]
     },
     "execution_count": 3,
     "metadata": {},
     "output_type": "execute_result"
    }
   ],
   "source": [
    "lst = [1,2,3,4,5,6,7]\n",
    "arr = np.array(lst, dtype=float)\n",
    "arr"
   ]
  },
  {
   "cell_type": "markdown",
   "id": "5ae4d8af-c12b-4af7-b1c1-e4b7343b614d",
   "metadata": {},
   "source": [
    "We can create Multi-dimensional array using Nested List. Here is the example for the same."
   ]
  },
  {
   "cell_type": "code",
   "execution_count": 4,
   "id": "8011be3c-d9c9-4dca-9df0-32fa6a3ac0af",
   "metadata": {},
   "outputs": [
    {
     "data": {
      "text/plain": [
       "array([['john', 'paul', 'cruz'],\n",
       "       ['Asmaa', 'al', 'Awdhi'],\n",
       "       ['Avinash', 'Kumar', 'sheohar']], dtype='<U7')"
      ]
     },
     "execution_count": 4,
     "metadata": {},
     "output_type": "execute_result"
    }
   ],
   "source": [
    "names = [[\"john\", \"paul\", \"cruz\"], [\"Asmaa\", \"al\", \"Awdhi\"], ['Avinash', \"Kumar\", \"sheohar\"]]\n",
    "arr = np.array(names)\n",
    "arr"
   ]
  },
  {
   "cell_type": "markdown",
   "id": "704d72d4-0e8b-42e9-80ef-5c02c7d3f38e",
   "metadata": {},
   "source": [
    "You CAN CHECK THE DIMENSION OF THE ARRAY USING \"ndim\" ATTRIBUTE"
   ]
  },
  {
   "cell_type": "code",
   "execution_count": 5,
   "id": "00c194f5-872f-456f-bf50-d91cbfb3ce0c",
   "metadata": {},
   "outputs": [
    {
     "data": {
      "text/plain": [
       "2"
      ]
     },
     "execution_count": 5,
     "metadata": {},
     "output_type": "execute_result"
    }
   ],
   "source": [
    "arr.ndim"
   ]
  },
  {
   "cell_type": "markdown",
   "id": "ba050d44-db12-4ef9-a5bf-69db6cbef7d1",
   "metadata": {},
   "source": [
    "\"np.arange()\" : \n",
    "\n",
    "THIS FUNCTION CREATES AN ARRAY WITH REGULARLY SPECED VALUE WITHIN A GIVEN RANGE. IT WORKS VERY SIMILAR TO AS PYTHON ARANGE FUNCTION WHEN APPLIED TO NUMBERS. HERE IS AN EXAMPLE OF HOW TO GENERATE AN ARRAY. THIS WILL CREATE A ONE DIMENSIONAL ARRAY OF NUMBER BETWEEN 0 TO 100 (NOT INCLUDING 100) WITH AN STEP SIZE OF 3"
   ]
  },
  {
   "cell_type": "code",
   "execution_count": 6,
   "id": "fec3b010-105f-494b-8295-5464821494c8",
   "metadata": {},
   "outputs": [
    {
     "data": {
      "text/plain": [
       "array([ 0,  3,  6,  9, 12, 15, 18, 21, 24, 27, 30, 33, 36, 39, 42, 45, 48,\n",
       "       51, 54, 57, 60, 63, 66, 69, 72, 75, 78, 81, 84, 87, 90, 93, 96, 99])"
      ]
     },
     "execution_count": 6,
     "metadata": {},
     "output_type": "execute_result"
    }
   ],
   "source": [
    "arr = np.arange(0, 100, 3)\n",
    "arr"
   ]
  },
  {
   "cell_type": "markdown",
   "id": "47df5f75-9c1d-4f8e-b010-2fa0eabf678f",
   "metadata": {},
   "source": [
    "\"np.zeros()\" : \n",
    "\n",
    "THIS FUCNTION CREATES AN ARRAY WITH ALL ITS ELEMENTS AS ZERO. DEFAULT DATA TYPE IS FLOAT. YOU CAN MENTION THE DATA TYPE PARAMETER "
   ]
  },
  {
   "cell_type": "code",
   "execution_count": 7,
   "id": "dc124c75-f16e-482a-bcb4-0b7f7313c329",
   "metadata": {},
   "outputs": [
    {
     "data": {
      "text/plain": [
       "array([[0., 0.],\n",
       "       [0., 0.]])"
      ]
     },
     "execution_count": 7,
     "metadata": {},
     "output_type": "execute_result"
    }
   ],
   "source": [
    "arr = np.zeros((2,2), dtype=float)\n",
    "arr"
   ]
  },
  {
   "cell_type": "markdown",
   "id": "1d42b1d5-8df3-4e42-b86f-b928710e4665",
   "metadata": {},
   "source": [
    "\"np.ones()\" : \n",
    "\n",
    "THIS FUNCTION CREATE AN ARRAY WITH ALL THE ELEMENTS AS ONES. DEFAULT DATATYPE IS FLOAT. YOU CAN PROVIDE THE DATATYPE USING DTYPE PARAMENTER"
   ]
  },
  {
   "cell_type": "code",
   "execution_count": 8,
   "id": "e9140ae0-8c24-4850-a780-09c995f5f3ad",
   "metadata": {},
   "outputs": [
    {
     "data": {
      "text/plain": [
       "array([[1, 1, 1, 1, 1],\n",
       "       [1, 1, 1, 1, 1],\n",
       "       [1, 1, 1, 1, 1],\n",
       "       [1, 1, 1, 1, 1],\n",
       "       [1, 1, 1, 1, 1]])"
      ]
     },
     "execution_count": 8,
     "metadata": {},
     "output_type": "execute_result"
    }
   ],
   "source": [
    "arr = np.ones((5,5), dtype=int)\n",
    "arr"
   ]
  },
  {
   "cell_type": "markdown",
   "id": "eb350ed8-e2c0-4c7a-8783-05c040273040",
   "metadata": {},
   "source": [
    "\"numpy.random.generator.integers\" : \n",
    "\n",
    "THIS FUNCTION IS USED BY THE NUMPY LIBRARY TO GENERATE RANDOM INTEGERS WITHIN SPECIFIED RANGE OR WITH THE SPECIFIED SET OF VALUES.\n",
    "\n",
    "Let’s say we want to create an array of random integers from 0 to 9, with 2 rows and 4 columns. First, we will create a random number generator, and then we will use the generator to generate the array. Here is how we can use this function to achieve that:"
   ]
  },
  {
   "cell_type": "code",
   "execution_count": 9,
   "id": "2e48c720-43b6-4b84-979b-66746b9a2125",
   "metadata": {},
   "outputs": [
    {
     "data": {
      "text/plain": [
       "array([[61,  4,  1, 83, 18],\n",
       "       [28, 68, 66, 97, 26],\n",
       "       [27, 14, 58, 47, 96],\n",
       "       [ 9, 24, 34, 46, 22],\n",
       "       [ 8, 14, 37, 39, 76]], dtype=int64)"
      ]
     },
     "execution_count": 9,
     "metadata": {},
     "output_type": "execute_result"
    }
   ],
   "source": [
    "# CREATE A RANDOM NUMBER GENERATOR\n",
    "rng = np.random.default_rng()\n",
    "\n",
    "# GENERATE RANDOM INTEGER FROM 0 TO 9\n",
    "\n",
    "rng.integers(low=0, high=100, size=(5,5))"
   ]
  },
  {
   "cell_type": "markdown",
   "id": "af9eeead-f26d-451c-89ec-eaf11b62eddd",
   "metadata": {},
   "source": [
    "Note: \n",
    "\n",
    "THE OUTPUT WILL ALWAYS VARY AS THEY ARE GENERATED RANDOMLY."
   ]
  },
  {
   "cell_type": "markdown",
   "id": "45146d4c-7ca6-437e-8197-f89be4073e1f",
   "metadata": {},
   "source": [
    "\"numpy.random.generator.random\":\n",
    "\n",
    "THIS METHOD CREATES AN ARRAY OF RANDOM FLOATS. \n",
    "\n",
    "lETS CREATE AN ARRAY OF RANDOM FLOATS BETWEEN 0 AND 1, IN THE SHAPE OF 2 ROWS AND 5 COLUMNS."
   ]
  },
  {
   "cell_type": "code",
   "execution_count": 10,
   "id": "0306ffe5-5055-4c9a-ae71-44158e44b4ca",
   "metadata": {},
   "outputs": [
    {
     "data": {
      "text/plain": [
       "array([[0.3591069 , 0.63010143, 0.52079756, 0.26084701, 0.4822114 ],\n",
       "       [0.01346594, 0.10088767, 0.252538  , 0.50146709, 0.87805165]])"
      ]
     },
     "execution_count": 10,
     "metadata": {},
     "output_type": "execute_result"
    }
   ],
   "source": [
    "rng = np.random.default_rng()\n",
    "rng.random((2,5))"
   ]
  },
  {
   "cell_type": "markdown",
   "id": "e29ea4e7-d54a-4c21-bb68-9b7da7c26c5c",
   "metadata": {},
   "source": [
    "SINCE OUTPUT IS RANDOM, YOU WILL GET DIFFERENT RESULT EVERYTIME YOU EXECUTE IT. TO ENSURE THAT THE OUTPUT IS REPRODUEABLE, WE SET THE \"seed = 24\". THIS MEANS THE THE GENERATED RANDOM STATE WILL BE REPEATED EVERYTIME YOU WILL RUN THE CODE."
   ]
  },
  {
   "cell_type": "code",
   "execution_count": 11,
   "id": "a3ee0632-47e3-4cdf-8d23-d68e3a314a22",
   "metadata": {},
   "outputs": [
    {
     "data": {
      "text/plain": [
       "array([[0.33026884, 0.40517732, 0.57473782, 0.50639977, 0.56421251],\n",
       "       [0.56968731, 0.87411653, 0.08643046, 0.74247527, 0.82036726]])"
      ]
     },
     "execution_count": 11,
     "metadata": {},
     "output_type": "execute_result"
    }
   ],
   "source": [
    "rng = np.random.default_rng(seed=24)\n",
    "rng.random((2,5))"
   ]
  },
  {
   "cell_type": "markdown",
   "id": "867b9c25-7cd1-4d85-a1e4-25fe6cc13deb",
   "metadata": {},
   "source": [
    "ACCESSING ARRAY ELEMENTS : \n",
    "\n",
    "NUMPY ARRAY ARE INDEXED USING INTEGER STARTING FROM ZERO. HERE ARE FEW WAYS OF ACCESSING THE NUMPY ARRAY ELEMENTS.\n",
    "\n",
    "1. SLICING\n",
    "   This is similar to Python lists, where you can access a range of elements using a colon (:)."
   ]
  },
  {
   "cell_type": "code",
   "execution_count": 12,
   "id": "a71a594d-5efd-4cd8-8913-f4bd2cd5988d",
   "metadata": {},
   "outputs": [
    {
     "data": {
      "text/plain": [
       "array([['avinash', 'kumar', 'dubai'],\n",
       "       ['raju', 'babu', 'sheohar']], dtype='<U7')"
      ]
     },
     "execution_count": 12,
     "metadata": {},
     "output_type": "execute_result"
    }
   ],
   "source": [
    "names = [[\"avinash\", \"kumar\", \"dubai\"], [\"raju\", \"babu\", \"sheohar\"]]\n",
    "arr = np.array(names)\n",
    "arr"
   ]
  },
  {
   "cell_type": "code",
   "execution_count": 13,
   "id": "d00aa79e-67f1-4656-a7a1-5cc5c800aab0",
   "metadata": {},
   "outputs": [
    {
     "data": {
      "text/plain": [
       "'sheohar'"
      ]
     },
     "execution_count": 13,
     "metadata": {},
     "output_type": "execute_result"
    }
   ],
   "source": [
    "select_sheohar = arr[1,2]\n",
    "select_sheohar"
   ]
  },
  {
   "cell_type": "code",
   "execution_count": 14,
   "id": "1baa0f52-0961-4da1-9ac6-47dbaf20b9a2",
   "metadata": {},
   "outputs": [
    {
     "data": {
      "text/plain": [
       "'babu'"
      ]
     },
     "execution_count": 14,
     "metadata": {},
     "output_type": "execute_result"
    }
   ],
   "source": [
    "select_babu = arr[1,1]\n",
    "select_babu"
   ]
  },
  {
   "cell_type": "code",
   "execution_count": 15,
   "id": "4b4d67d9-1eee-487a-9e13-56f9fbfbf80e",
   "metadata": {},
   "outputs": [
    {
     "data": {
      "text/plain": [
       "'avinash'"
      ]
     },
     "execution_count": 15,
     "metadata": {},
     "output_type": "execute_result"
    }
   ],
   "source": [
    "select_avinash = arr[0,0]\n",
    "select_avinash"
   ]
  },
  {
   "cell_type": "markdown",
   "id": "793377c0-bada-4b9c-ae4c-960ec220171e",
   "metadata": {},
   "source": [
    "LETS SAY YOU WANT TO SELECT THE NAMES \"babu\" AND \"sheohar\". HERE IS HOW YOU CAN USE SLICING FOR SUCH AN OPERATION"
   ]
  },
  {
   "cell_type": "code",
   "execution_count": 16,
   "id": "07776472-1c1d-40aa-a45d-f03af5daf0e4",
   "metadata": {},
   "outputs": [
    {
     "data": {
      "text/plain": [
       "array(['babu', 'sheohar'], dtype='<U7')"
      ]
     },
     "execution_count": 16,
     "metadata": {},
     "output_type": "execute_result"
    }
   ],
   "source": [
    "select_babu_sheohar = arr[1,1:]\n",
    "select_babu_sheohar"
   ]
  },
  {
   "cell_type": "markdown",
   "id": "52055446-e64b-4907-9c1e-b019e07c93dc",
   "metadata": {},
   "source": [
    "FANCY INDEXING: \n",
    "    This allows you to select elements based on a list of indices. LETS SAY IF YOU WANT TO SELECT THE ITEMS \"dubai\" and \"sheohar\" from the array, here is how we do it using fancy indexing."
   ]
  },
  {
   "cell_type": "code",
   "execution_count": 17,
   "id": "d6dfd4a4-90f6-4542-a4f4-3d382ef9a548",
   "metadata": {},
   "outputs": [
    {
     "ename": "IndexError",
     "evalue": "index 2 is out of bounds for axis 0 with size 2",
     "output_type": "error",
     "traceback": [
      "\u001b[1;31m---------------------------------------------------------------------------\u001b[0m",
      "\u001b[1;31mIndexError\u001b[0m                                Traceback (most recent call last)",
      "Cell \u001b[1;32mIn[17], line 8\u001b[0m\n\u001b[0;32m      4\u001b[0m select_sheohar \u001b[38;5;241m=\u001b[39m np\u001b[38;5;241m.\u001b[39marray([\u001b[38;5;241m1\u001b[39m, \u001b[38;5;241m2\u001b[39m])\n\u001b[0;32m      6\u001b[0m \u001b[38;5;66;03m# Using fancy indexing to select\u001b[39;00m\n\u001b[1;32m----> 8\u001b[0m select_aa \u001b[38;5;241m=\u001b[39m \u001b[43marr\u001b[49m\u001b[43m[\u001b[49m\u001b[43mselect_dubai\u001b[49m\u001b[43m]\u001b[49m\n",
      "\u001b[1;31mIndexError\u001b[0m: index 2 is out of bounds for axis 0 with size 2"
     ]
    }
   ],
   "source": [
    "# Creating an elements indices\n",
    "\n",
    "select_dubai = np.array([0, 2])\n",
    "select_sheohar = np.array([1, 2])\n",
    "\n",
    "# Using fancy indexing to select\n",
    "\n",
    "select_aa = arr[select_dubai]"
   ]
  },
  {
   "cell_type": "markdown",
   "id": "2751900a-8fe4-4670-af36-fcc1c7b7d16e",
   "metadata": {},
   "source": [
    "ARRAY MANUPULAITON :\n",
    "NumPy PROVIDES A WIDE RANGE OF FUNCTIONS TO MANIPULATE ARRAY, THEY ARE:\n",
    "1. np.reshape()\n",
    "2. np.concatenate()\n",
    "3. np.split()\n",
    "4. np.transpose()\n",
    "\n",
    "np.reshape()\n",
    "    We can change the shape of an array using the np.reshape()\n",
    "    function. Here is how we can use reshape to flatten a multidimensional\n",
    "    array. In the code above, we create a 2-dimensional array and then use the np.reshape() function to flatten the array. \n",
    "    The number 9 is the number of elements in the original array. By passing the number 9,\n",
    "    we are telling the reshape function to return a 1-dimensional array.\n"
   ]
  },
  {
   "cell_type": "code",
   "execution_count": null,
   "id": "eed6d5b4-0300-4c69-b0f2-c492ae8752f1",
   "metadata": {},
   "outputs": [],
   "source": [
    "# Creating an array\n",
    "\n",
    "arr = np.array([[1, 2, 3], [4, 5, 6], [7, 8, 9]])\n",
    "\n",
    "# Flatten the array using reshape.\n",
    "\n",
    "np.reshape(arr, 9)"
   ]
  },
  {
   "cell_type": "markdown",
   "id": "21667d69-7079-4ac2-b4a7-c238b90ea124",
   "metadata": {},
   "source": [
    "In the code above, we create a 2-dimensional array and then use the np.reshape() function to flatten the array. The number 9 is the number of elements in the original array. By passing the number 9, we are telling the reshape function to return a 1-dimensional array."
   ]
  },
  {
   "cell_type": "markdown",
   "id": "ac20637c-6b5b-43bb-974f-18b1b0d68214",
   "metadata": {},
   "source": [
    "Here is another example how to reshape the Array. we will reshape the array of names below."
   ]
  },
  {
   "cell_type": "code",
   "execution_count": 24,
   "id": "67bcefd0-c440-463f-866b-b3434ff6dfe4",
   "metadata": {},
   "outputs": [
    {
     "data": {
      "text/plain": [
       "array([['jon', 'Mary'],\n",
       "       ['Paul', 'Peter'],\n",
       "       ['Ben', 'Saul']], dtype='<U5')"
      ]
     },
     "execution_count": 24,
     "metadata": {},
     "output_type": "execute_result"
    }
   ],
   "source": [
    "name = [[\"jon\", \"Mary\", \"Paul\"], [\"Peter\", \"Ben\", \"Saul\"]]\n",
    "arr1 = np.array(name)\n",
    "arr1\n",
    "\n",
    "new_array = np.reshape(arr1, (3,2))\n",
    "new_array"
   ]
  },
  {
   "cell_type": "markdown",
   "id": "f3848fa4-20b5-4c4f-b988-2023b0eb6cf8",
   "metadata": {},
   "source": [
    "ARRAY MANUPULATION : np.concatenate()\n",
    "\n",
    "This function joins two or more arrays together. We can pick the axis on which we want the arrays to be joined.\n",
    "If we do not provide the axis, it will be joined on axis 0."
   ]
  },
  {
   "cell_type": "code",
   "execution_count": 26,
   "id": "565ba5d6-1211-4a71-a3da-13c72f8a7e86",
   "metadata": {},
   "outputs": [
    {
     "data": {
      "text/plain": [
       "array([[ 10,  20,  30],\n",
       "       [ 40,  50,  60],\n",
       "       [100, 110, 120],\n",
       "       [130, 140, 150]])"
      ]
     },
     "execution_count": 26,
     "metadata": {},
     "output_type": "execute_result"
    }
   ],
   "source": [
    "arr1 = np.array([[10,20,30], [40,50,60]])\n",
    "arr2 = np.array([[100,110,120], [130,140,150]])\n",
    "\n",
    "# Concatenate on Axis - 0\n",
    "\n",
    "arr3 = np.concatenate((arr1, arr2), axis=0)\n",
    "arr3"
   ]
  },
  {
   "cell_type": "markdown",
   "id": "42ebca7a-ba4e-4665-977d-a293747a2b3a",
   "metadata": {},
   "source": [
    "Note that for concatenation to work, the arrays must have\n",
    "the same number of dimensions. If we were to try to join\n",
    "these two arrays on axis 1 (rows), we would get an error\n",
    "because the two arrays do not have an equal number of\n",
    "rows."
   ]
  },
  {
   "cell_type": "markdown",
   "id": "4fe56841-f159-4b5e-b8e4-814c87eb81da",
   "metadata": {},
   "source": [
    "ARRAY MANUPULATION : np.split()\n",
    "\n",
    "This function splits an array into smaller arrays. Below, we\n",
    "use the np.split() function to split the array into two parts."
   ]
  },
  {
   "cell_type": "code",
   "execution_count": 27,
   "id": "d55d4ef3-36d4-47be-b99d-9310042efc32",
   "metadata": {},
   "outputs": [],
   "source": [
    "names = [[\"jon\", \"Mary\", \"paul\"], [\"Peter\", \"Ben\", \"Saul\"]]\n",
    "\n",
    "# Creating an Array\n",
    "arr1 = np.array(names)\n",
    "\n",
    "# using split to split the array into two parts.\n",
    "\n",
    "split_one, split_two = np.split(arr1, 2)\n"
   ]
  },
  {
   "cell_type": "code",
   "execution_count": 28,
   "id": "00056669-0a43-4916-923a-19fa1c8434e8",
   "metadata": {},
   "outputs": [
    {
     "data": {
      "text/plain": [
       "array([['jon', 'Mary', 'paul']], dtype='<U5')"
      ]
     },
     "execution_count": 28,
     "metadata": {},
     "output_type": "execute_result"
    }
   ],
   "source": [
    "split_one"
   ]
  },
  {
   "cell_type": "code",
   "execution_count": 29,
   "id": "616c5269-6d5e-4b87-982b-aa18b9f3e0e1",
   "metadata": {},
   "outputs": [
    {
     "data": {
      "text/plain": [
       "array([['Peter', 'Ben', 'Saul']], dtype='<U5')"
      ]
     },
     "execution_count": 29,
     "metadata": {},
     "output_type": "execute_result"
    }
   ],
   "source": [
    "split_two\n"
   ]
  },
  {
   "cell_type": "markdown",
   "id": "b58c9cfa-96aa-4822-aad9-5aca3b2c48c4",
   "metadata": {},
   "source": [
    "ARRAY MANUPULATION : np.transpose()\n",
    "\n",
    "This function transpose an array, by switching its rows and columns. Transposing an array, is specially useful when working woth Linear Algebra Operations such as Matrix multiplication.\n",
    "\n",
    "In some cases, the multiplication of two natrices requires that one of the matrices be transposed in order for operation to be performed correctly."
   ]
  },
  {
   "cell_type": "code",
   "execution_count": 30,
   "id": "1215cc52-c8c3-49f7-baaf-0debca332ac7",
   "metadata": {},
   "outputs": [
    {
     "data": {
      "text/plain": [
       "array([[ 6800,  8600],\n",
       "       [16700, 21200],\n",
       "       [26600, 33800]])"
      ]
     },
     "execution_count": 30,
     "metadata": {},
     "output_type": "execute_result"
    }
   ],
   "source": [
    "arr1 = np.array([[10,20,30],[40,50,60],[70,80,90]])\n",
    "arr2 = np.array([[100,110,120], [130,140,150]])\n",
    "\n",
    "# Perform dot operation and transpose Arr2\n",
    "\n",
    "np.dot(arr1, arr2.transpose())"
   ]
  },
  {
   "cell_type": "markdown",
   "id": "2ffb9cc9-2a9b-4779-822d-986c32de7874",
   "metadata": {},
   "source": [
    "MATHEMATICAL FUNCTIONS\n",
    "\n",
    "Numpy provides a wide range of mathematical functions that can be used on arrays. these include:\n",
    "np.add(), np.subtract(), np.multiply(), np.divide(), np.power(), np.sqrt()\n",
    "    "
   ]
  },
  {
   "cell_type": "markdown",
   "id": "cf4e9351-a21b-4edd-831c-698345370cde",
   "metadata": {},
   "source": [
    "MATHEMETICAL FUNCTION: np.add() and np.subtract()\n",
    "\n",
    "the \"np.add()\" adds two arrays together (element wide addition of two arrays, these crossponding elements from the ttwo arrays are added together.)\n",
    "\n",
    "The \"np.subtract()\" function subtracts one array from another (element wise)\n",
    "\n",
    "Here are the examples below:\n",
    "\n"
   ]
  },
  {
   "cell_type": "code",
   "execution_count": 31,
   "id": "1a785155-cf47-44f8-b2bc-3d19b5fb07cd",
   "metadata": {},
   "outputs": [
    {
     "data": {
      "text/plain": [
       "array([[ 4,  5, 10],\n",
       "       [10, 12, 14]])"
      ]
     },
     "execution_count": 31,
     "metadata": {},
     "output_type": "execute_result"
    }
   ],
   "source": [
    "arr1 = np.array([[1, 2, 4], [6, 7, 8]])\n",
    "arr2 = np.array([[3, 3, 6], [4, 5, 6]])\n",
    "\n",
    "# Adding two Arrays\n",
    "\n",
    "np.add(arr1, arr2)"
   ]
  },
  {
   "cell_type": "code",
   "execution_count": 32,
   "id": "5f7af74e-580c-46ec-9cf2-ebc3478affec",
   "metadata": {},
   "outputs": [
    {
     "data": {
      "text/plain": [
       "array([[-2, -1, -2],\n",
       "       [ 2,  2,  2]])"
      ]
     },
     "execution_count": 32,
     "metadata": {},
     "output_type": "execute_result"
    }
   ],
   "source": [
    "np.subtract(arr1, arr2)"
   ]
  },
  {
   "cell_type": "code",
   "execution_count": null,
   "id": "a6843932-5c64-49a0-8638-0a493e666f14",
   "metadata": {},
   "outputs": [],
   "source": []
  }
 ],
 "metadata": {
  "kernelspec": {
   "display_name": "Python 3 (ipykernel)",
   "language": "python",
   "name": "python3"
  },
  "language_info": {
   "codemirror_mode": {
    "name": "ipython",
    "version": 3
   },
   "file_extension": ".py",
   "mimetype": "text/x-python",
   "name": "python",
   "nbconvert_exporter": "python",
   "pygments_lexer": "ipython3",
   "version": "3.12.0"
  }
 },
 "nbformat": 4,
 "nbformat_minor": 5
}
