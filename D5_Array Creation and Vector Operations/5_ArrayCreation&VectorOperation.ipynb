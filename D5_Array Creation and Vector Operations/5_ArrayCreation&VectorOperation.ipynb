{
 "cells": [
  {
   "cell_type": "markdown",
   "id": "dbb20874-d9de-48bf-92ae-cc19fba3a2b5",
   "metadata": {},
   "source": [
    "## Day5 - Array Creation and Vector Operations\n",
    "\n",
    "In this challenge, you will create a 2-dimensional array,\n",
    "analyze and perform vector operations on the array, and\n",
    "slice numbers from the array.\n",
    "list_numbers = [[12, 23, -45], [18, -77, -44]]\n",
    "1. Using NumPy, create an array from the list. Write a code to\n",
    "return all the negative numbers in the list.\n",
    "2. Using NumPy, write code to multiply each element in the\n",
    "array you created in question 1 by 2. Create a new variable\n",
    "for this array.\n",
    "3. Write code to calculate the sum of the numbers on axis-1 of\n",
    "the array you created in question 2.\n",
    "4. Write code to calculate the sum of numbers on axis-0 of the\n",
    "array you created in question 2.\n",
    "5. Using the NumPy arange() function, create a NumPy array\n",
    "of numbers from 0 to 99. The shape of the array must be\n",
    "(2, 5, 10).\n",
    "6. Write code to slice row [50, 51, 52, 53, 54, 55, 56, 57, 58, 59]\n",
    "from the array above (question 5).\n",
    "7. Let’s analyze the array you created in question 1 further.\n",
    "How many numbers in row 1 are greater than the numbers\n",
    "in row 2?"
   ]
  },
  {
   "cell_type": "code",
   "execution_count": 1,
   "id": "3c5b3822-35ea-43b1-93cf-2e3d54bd80ca",
   "metadata": {},
   "outputs": [
    {
     "data": {
      "text/plain": [
       "[[12, 23, -45], [18, -77, -44]]"
      ]
     },
     "execution_count": 1,
     "metadata": {},
     "output_type": "execute_result"
    }
   ],
   "source": [
    "list_numbers = [[12, 23, -45], [18, -77, -44]]\n",
    "list_numbers"
   ]
  },
  {
   "cell_type": "markdown",
   "id": "1821a843-114c-49d8-905a-933de6989256",
   "metadata": {},
   "source": [
    "## Task 1:\n",
    "Using Numpy, create an array from the list. write a code to return all the negative numbers in the list"
   ]
  },
  {
   "cell_type": "code",
   "execution_count": 13,
   "id": "98a5f9cd-1749-44f3-953b-ff5b40cb939d",
   "metadata": {},
   "outputs": [
    {
     "name": "stdout",
     "output_type": "stream",
     "text": [
      "[-45 -77 -44]\n"
     ]
    }
   ],
   "source": [
    "import numpy as np\n",
    "\n",
    "# Create array from the List\n",
    "arr = np.array(list_numbers)\n",
    "\n",
    "# Useing Where function of Numpy to find out the Indexes of Negative numbers\n",
    "negatives = np.where(arr <0)\n",
    "print(arr[negatives])\n",
    "\n"
   ]
  },
  {
   "cell_type": "markdown",
   "id": "03ab1ed8-011d-4673-8642-c19425b8ede9",
   "metadata": {},
   "source": [
    "# Task 2\n",
    "Using NumPy, write code to multiply each element in the array you created in question 1 by 2. Create a new variable for this array."
   ]
  },
  {
   "cell_type": "code",
   "execution_count": 15,
   "id": "2ef5baa3-10a4-42e0-ad89-1e6d6caed34c",
   "metadata": {},
   "outputs": [
    {
     "data": {
      "text/plain": [
       "array([[  24,   46,  -90],\n",
       "       [  36, -154,  -88]])"
      ]
     },
     "execution_count": 15,
     "metadata": {},
     "output_type": "execute_result"
    }
   ],
   "source": [
    "# Array was already created in the previous task, we will use that here \n",
    "\n",
    "arr1 = np.multiply(arr, 2)\n",
    "arr1\n",
    "\n",
    "# Also\n",
    "\n",
    "#arr1 = arr*2\n",
    "#arr1"
   ]
  },
  {
   "cell_type": "markdown",
   "id": "1e02b674-6dd8-407b-9209-b8b9abdf648c",
   "metadata": {},
   "source": [
    "## Task 3\n",
    "Write code to calculate the sum of the numbers on axis-1 of the array you created in question 2."
   ]
  },
  {
   "cell_type": "code",
   "execution_count": 20,
   "id": "655ca018-3a33-40e8-a8a7-877934296a6c",
   "metadata": {},
   "outputs": [
    {
     "data": {
      "text/plain": [
       "array([ -20, -206])"
      ]
     },
     "execution_count": 20,
     "metadata": {},
     "output_type": "execute_result"
    }
   ],
   "source": [
    "arr2 = np.sum(arr1, axis=1)\n",
    "arr2"
   ]
  },
  {
   "cell_type": "markdown",
   "id": "2e80842d-fbd0-4f72-af3c-322386c87ab2",
   "metadata": {},
   "source": [
    "## Task 4\n",
    "Write code to calculate the sum of numbers on axis-0 of the array you created in question 2."
   ]
  },
  {
   "cell_type": "code",
   "execution_count": 22,
   "id": "807affad-5c72-441f-a37b-daa555b321ce",
   "metadata": {},
   "outputs": [
    {
     "data": {
      "text/plain": [
       "array([  60, -108, -178])"
      ]
     },
     "execution_count": 22,
     "metadata": {},
     "output_type": "execute_result"
    }
   ],
   "source": [
    "arr3 = np.sum(arr1, axis=0)\n",
    "arr3"
   ]
  },
  {
   "cell_type": "markdown",
   "id": "9c580ec2-f2a3-4c0a-af2e-30ae39affebe",
   "metadata": {},
   "source": [
    "## Task 5\n",
    "Using the NumPy arange() function, create a NumPy array of numbers from 0 to 99. The shape of the array must be (2, 5, 10)."
   ]
  },
  {
   "cell_type": "code",
   "execution_count": 24,
   "id": "be599685-2b52-4132-9f0c-85186187b56e",
   "metadata": {},
   "outputs": [
    {
     "data": {
      "text/plain": [
       "array([[[ 0,  1,  2,  3,  4,  5,  6,  7,  8,  9],\n",
       "        [10, 11, 12, 13, 14, 15, 16, 17, 18, 19],\n",
       "        [20, 21, 22, 23, 24, 25, 26, 27, 28, 29],\n",
       "        [30, 31, 32, 33, 34, 35, 36, 37, 38, 39],\n",
       "        [40, 41, 42, 43, 44, 45, 46, 47, 48, 49]],\n",
       "\n",
       "       [[50, 51, 52, 53, 54, 55, 56, 57, 58, 59],\n",
       "        [60, 61, 62, 63, 64, 65, 66, 67, 68, 69],\n",
       "        [70, 71, 72, 73, 74, 75, 76, 77, 78, 79],\n",
       "        [80, 81, 82, 83, 84, 85, 86, 87, 88, 89],\n",
       "        [90, 91, 92, 93, 94, 95, 96, 97, 98, 99]]])"
      ]
     },
     "execution_count": 24,
     "metadata": {},
     "output_type": "execute_result"
    }
   ],
   "source": [
    "arr4 = np.arange(100).reshape(2,5,10)\n",
    "arr4"
   ]
  },
  {
   "cell_type": "markdown",
   "id": "14faa690-b222-4c72-b09b-e4280fa94f05",
   "metadata": {},
   "source": [
    "## Task 6\n",
    "Write code to slice row [50, 51, 52, 53, 54, 55, 56, 57, 58, 59] from the array above (question 5)."
   ]
  },
  {
   "cell_type": "code",
   "execution_count": 26,
   "id": "f42713ba-3032-48f4-8f62-70368148f280",
   "metadata": {},
   "outputs": [
    {
     "data": {
      "text/plain": [
       "array([50, 51, 52, 53, 54, 55, 56, 57, 58, 59])"
      ]
     },
     "execution_count": 26,
     "metadata": {},
     "output_type": "execute_result"
    }
   ],
   "source": [
    "arr4[1,0,:]"
   ]
  },
  {
   "cell_type": "markdown",
   "id": "529cdaa6-bdf5-4e3f-aa4a-abf7b692181e",
   "metadata": {},
   "source": [
    "## Task 7:\n",
    "Let’s analyze the array you created in question 1 further. How many numbers in row 1 are greater than the numbers in row 2?"
   ]
  },
  {
   "cell_type": "code",
   "execution_count": 34,
   "id": "ec34c7a5-0656-4413-b21a-1a092048304b",
   "metadata": {},
   "outputs": [
    {
     "name": "stdout",
     "output_type": "stream",
     "text": [
      "Row1 :  [ 12  23 -45] \n",
      "Row2 :  [ 18 -77 -44]\n",
      "The numbers in row 1 that are greater are: 1\n"
     ]
    }
   ],
   "source": [
    "# First, we need to slice rows 1 and 2 from the array we created in question 1. We are going to use the NumPy greater() function to return the numbers in row one that are greater than the numbers in row two. This function will.\n",
    "# return an array of Boolean values. If a number in row one is greater than a number in row 2, it will return True, and if it is not, it will return False. We will use the sum() function to sum the True values.\n",
    "\n",
    "arr\n",
    "#arr_row1 = arr[0,:]\n",
    "#arr_row2 = arr[1,:]\n",
    "\n",
    "# OR \n",
    "arr_row1 = arr[0]   # Selecting Row 1\n",
    "arr_row2 = arr[1]   # Selecting Row 2\n",
    "print(\"Row1 : \",arr_row1, \"\\nRow2 : \", arr_row2)    # Printhing poth the selected rows\n",
    "\n",
    "# Using Greater than function\n",
    "\n",
    "nums_greater = np.greater(arr_row1, arr_row2)\n",
    "#nums_greater\n",
    "\n",
    "print(f\"The numbers in row 1 that are greater are: {sum(nums_greater)}\")"
   ]
  },
  {
   "cell_type": "code",
   "execution_count": null,
   "id": "f1d273da-c9f5-427e-951c-48119d0c04dd",
   "metadata": {},
   "outputs": [],
   "source": []
  }
 ],
 "metadata": {
  "kernelspec": {
   "display_name": "Python 3 (ipykernel)",
   "language": "python",
   "name": "python3"
  },
  "language_info": {
   "codemirror_mode": {
    "name": "ipython",
    "version": 3
   },
   "file_extension": ".py",
   "mimetype": "text/x-python",
   "name": "python",
   "nbconvert_exporter": "python",
   "pygments_lexer": "ipython3",
   "version": "3.12.0"
  }
 },
 "nbformat": 4,
 "nbformat_minor": 5
}
