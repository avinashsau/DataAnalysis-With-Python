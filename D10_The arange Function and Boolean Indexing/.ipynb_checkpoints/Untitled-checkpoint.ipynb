{
 "cells": [
  {
   "cell_type": "markdown",
   "id": "844b4ddd-c2c7-4ef8-a182-821554fbe93c",
   "metadata": {},
   "source": [
    "# The \"arange()\" Function & Boolean Indexing\n",
    "In this challenge, you will use the NumPy arange() function.\n",
    "It is similar to the built-in range() function in Python, but\n",
    "it returns a NumPy array. Boolean indexing, on the other\n",
    "hand, is a way of indexing NumPy arrays based on a set of\n",
    "Boolean conditions. It allows you to select elements from\n",
    "an array that meet certain criteria.\n",
    "\n",
    "num = 50\n",
    "\n",
    "1. Create an array from the number above using the arange() function of NumPy. Your array should start at 0 with a step of 5.\n",
    "2. Using NumPy, write a code that returns all the numbers in the array that are greater than 25.\n",
    "3. Here is some data below:\n",
    "\n",
    "   days = [\"mon\", \"tue\", \"wed\", \"thu\", \"Fri\"]\n",
    "   hours_worked = [ 8, 8, 10, 11, 7]\n",
    "   \n",
    "    Using Boolean indexing of NumPy arrays, return the days of the week where hours worked were 8.\n",
    "4. Write another code (using Boolean indexing) to return the day of the week with the highest number of hours worked.\n",
    "5. Write another code to return all the days of the week where over 9 hours of work were achieved.\n"
   ]
  },
  {
   "cell_type": "markdown",
   "id": "7cc90c10-d0f7-4a64-94a4-fdefa94d435f",
   "metadata": {},
   "source": [
    "## Task 1\n",
    "The np.arange() function is similar to the range() function\n",
    "in Python. It takes three parameters: start, finish, and step.\n",
    "For this challenge, we want to set the start at 0, stop at 50,\n",
    "and step at 5. This means it will create an array with\n",
    "numbers between 0 and 50, spaced by 5.\n",
    "\n",
    "It is important to note that the stop parameter in\n",
    "np.arange() specifies the end value that is not included in\n",
    "the generated array. In this case, the stop value of 50 is not\n",
    "included in the output array."
   ]
  },
  {
   "cell_type": "code",
   "execution_count": 3,
   "id": "60e069ae-7b1b-4728-a930-09f995b470b9",
   "metadata": {},
   "outputs": [
    {
     "data": {
      "text/plain": [
       "array([ 0,  5, 10, 15, 20, 25, 30, 35, 40, 45])"
      ]
     },
     "execution_count": 3,
     "metadata": {},
     "output_type": "execute_result"
    }
   ],
   "source": [
    "import numpy as np\n",
    "arr1 = np.arange(0,50,5)\n",
    "arr1"
   ]
  },
  {
   "cell_type": "markdown",
   "id": "f13d4404-a62b-4b6d-b6a3-88b0d2c3ed11",
   "metadata": {},
   "source": [
    "## Task 2: Use of \"np.where()\"\n",
    "The np.where() function makes it easy to filter an array for\n",
    "specific values. In this challenge, we are going to use the\n",
    "function to return numbers that are greater than 25 from\n",
    "an array. First, we are going to use the np.where() function\n",
    "to find indexes of numbers over 25. Then we will use the\n",
    "indexes to get the numbers from the array. Here is the code\n",
    "below:\n",
    "\n",
    "we will pass the array created above to \"np.where()\" to create a new array of indexes of objects which meets the condition\n"
   ]
  },
  {
   "cell_type": "code",
   "execution_count": 6,
   "id": "c43aaab8-7669-4fc9-9837-3bed82637e8c",
   "metadata": {},
   "outputs": [
    {
     "name": "stdout",
     "output_type": "stream",
     "text": [
      "[30 35 40 45]\n"
     ]
    }
   ],
   "source": [
    "# Getting the Indexes of numbers over 25\n",
    "over25_indices = np.where(arr1 > 25)\n",
    "\n",
    "# Using Index to fet the numbers over 25\n",
    "print(arr1[over25_indices])"
   ]
  },
  {
   "cell_type": "markdown",
   "id": "ec8b322f-3b52-4c33-91ce-100bc1829768",
   "metadata": {},
   "source": [
    "## Task 3: Boolean Indexing\n",
    "Boolean indexing comes in handy when filtering data from\n",
    "multiple arrays. Remember, for this to work, the arrays\n",
    "must be the same length. You can see from the code below\n",
    "that Monday and Tuesday were the days when 8 hours were\n",
    "worked.\n",
    "\n"
   ]
  },
  {
   "cell_type": "code",
   "execution_count": 44,
   "id": "41f1d024-728b-41ba-bcaa-0007bd3782b5",
   "metadata": {},
   "outputs": [
    {
     "data": {
      "text/plain": [
       "array(['mon', 'tue', 'sat'], dtype='<U3')"
      ]
     },
     "execution_count": 44,
     "metadata": {},
     "output_type": "execute_result"
    }
   ],
   "source": [
    "import pandas as pd\n",
    "\n",
    "days = [\"mon\", \"tue\", \"wed\", \"thr\", \"fri\", \"sat\"]\n",
    "hours_worked = [8, 8, 10, 11, 7, 8]\n",
    "\n",
    "\n",
    "# Using DataFrame____________________________________________________________\n",
    "# Creating an Array\n",
    "#days = np.array(days)\n",
    "#hours_worked = np.array(hours_worked)\n",
    "\n",
    "# Create a Dataframe\n",
    "#dataframe = pd.DataFrame({\"Days\": days, \"Hours\": hours_worked})\n",
    "\n",
    "# Applying selection conditions to list records where Hours worked is equal to 8 Hours\n",
    "#worked8hrs = dataframe.loc[dataframe[\"Hours\"]==8]\n",
    "#worked8hrs\n",
    "#____________________________________________________________________________\n",
    "\n",
    "# Using Numpy________________________________________________________________\n",
    "\n",
    "# creating a 2 Dimensional Array\n",
    "#arr1 = np.array([days,hours_worked])\n",
    "#arr1\n",
    "# Creating arrays fro mthe list\n",
    "days = np.array(days)\n",
    "hours_worked = np.array(hours_worked)\n",
    "\n",
    "# Using Boolean to get the 8 Hour Days\n",
    "days_8hr = days[hours_worked == 8]\n",
    "days_8hr"
   ]
  },
  {
   "cell_type": "markdown",
   "id": "cbf5d87b-2d08-42b4-9beb-ed1009815174",
   "metadata": {},
   "source": [
    "## Task 4: Write another code (using Boolean indexing) to return the day of the week with the highest number of hours worked.\n",
    "\n",
    "For this challenge, we are going to use the \"np.argmax()\" function, first to find the index of the maximum hours worked from the hours_worked array. We will then use the index to find the corresponding day in the days array."
   ]
  },
  {
   "cell_type": "code",
   "execution_count": 46,
   "id": "38c49581-f8d5-4246-9676-d2039f6eab79",
   "metadata": {},
   "outputs": [
    {
     "name": "stdout",
     "output_type": "stream",
     "text": [
      "Day with maximum hour worked is, thr\n"
     ]
    }
   ],
   "source": [
    "# Finding maximum value Index\n",
    "max_hr_index = np.argmax(hours_worked)\n",
