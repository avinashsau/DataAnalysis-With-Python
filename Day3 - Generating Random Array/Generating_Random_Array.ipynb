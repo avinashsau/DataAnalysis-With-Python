{
 "cells": [
  {
   "cell_type": "markdown",
   "id": "583cf994-8f92-4c15-a6cc-124d95f2949f",
   "metadata": {},
   "source": [
    "# Generating Random Array\n",
    "\n",
    "In this challenge, you are going to generate an array with\n",
    "some random numbers using NumPy, and create some\n",
    "visualizations using Matplotlib.\n",
    "1. Using NumPy create an array of random numbers\n",
    "between 0 and 1. The shape of the array must be (3, 4).\n",
    "Use seed to ensure that the results are reproducible.\n",
    "2. Create an array of random integers between 0 and 10. The\n",
    "shape of the array must be (3, 4).\n",
    "3. Using NumPy, generate an array of 1000 random numbers\n",
    "from a standard normal distribution with a mean of 0 and\n",
    "a variance of 1. Create a histogram with this array. Use the\n",
    "seed parameter to ensure the results are reproducible.\n",
    "4. arr = [ \"Orange\", \"Apple\", \"Pear\"]\n",
    "Using random.choice() from NumPy, generate an array\n",
    "from the list above. The shape of the array must be (3, 4)."
   ]
  },
  {
   "cell_type": "markdown",
   "id": "0ff61981-7982-400e-809a-eeeb35ed7cdb",
   "metadata": {},
   "source": [
    "### Task # 1\n",
    "Create Array of Random Numbers between 0 and 1. the shape of Array must be (3,4), Use Seed to ensure the result is reproducible"
   ]
  },
  {
   "cell_type": "code",
   "execution_count": 2,
   "id": "be53966d-b9b5-4899-83fc-faf59624cc7b",
   "metadata": {},
   "outputs": [
    {
     "data": {
      "text/plain": [
       "array([[0.33026884, 0.40517732, 0.57473782, 0.50639977],\n",
       "       [0.56421251, 0.56968731, 0.87411653, 0.08643046],\n",
       "       [0.74247527, 0.82036726, 0.71216007, 0.40992561]])"
      ]
     },
     "execution_count": 2,
     "metadata": {},
     "output_type": "execute_result"
    }
   ],
   "source": [
    "import numpy as np\n",
    "\n",
    "rng = np.random.default_rng(seed=24)\n",
    "arr1 = rng.random(size=(3,4))\n",
    "arr1"
   ]
  },
  {
   "cell_type": "markdown",
   "id": "151da441-b4eb-435c-81a2-86530ef2507a",
   "metadata": {},
   "source": [
    "### Task # 2\n",
    "Create an array of random integers between 0 and 10. The shape of the array must be (3, 4)."
   ]
  },
  {
   "cell_type": "code",
   "execution_count": 4,
   "id": "49554b25-017e-4867-9c07-02614bc082c5",
   "metadata": {},
   "outputs": [
    {
     "data": {
      "text/plain": [
       "array([[1, 3, 5, 1],\n",
       "       [3, 6, 0, 4],\n",
       "       [8, 7, 8, 3]], dtype=int64)"
      ]
     },
     "execution_count": 4,
     "metadata": {},
     "output_type": "execute_result"
    }
   ],
   "source": [
    "arr2 = rng.integers(low=0, high=10, size=(3,4))\n",
    "arr2"
   ]
  },
  {
   "cell_type": "markdown",
   "id": "e46cf6a1-38ab-4f4b-855d-b2606a214838",
   "metadata": {},
   "source": [
    "## Task #3\n",
    "Using NumPy, generate an array of 1000 random numbers\n",
    "from a standard normal distribution with a mean of 0 and\n",
    "a variance of 1. Create a histogram with this array. Use the\n",
    "seed parameter to ensure the results are reproducible."
   ]
  },
  {
   "cell_type": "code",
   "execution_count": 34,
   "id": "be61de7e-d009-46e3-bfa2-98e1c3a27eb2",
   "metadata": {},
   "outputs": [
    {
     "data": {
      "image/png": "[encoded data removed]",
      "text/plain": [
       "<Figure size 640x480 with 1 Axes>"
      ]
     },
     "metadata": {},
     "output_type": "display_data"
    }
   ],
   "source": [
    "import matplotlib.pyplot as plt\n",
    "\n",
    "# Instantiating a generator and setting a seed\n",
    "\n",
    "rg = np.random.default_rng(seed=40)\n",
    "arr3 = rg.standard_normal(size=(1000))\n",
    "\n",
    "#Plotting\n",
    "plt.hist(arr3, bins=50)\n",
    "plt.title(\"Standard Normal Distribution\")\n",
    "plt.show()"
   ]
  },
  {
   "cell_type": "markdown",
   "id": "f04c6402-c0ae-4fed-91f9-a2f8750d7524",
   "metadata": {},
   "source": [
    "## Task #4\n",
    "arr = [ \"Orange\", \"Apple\", \"Pear\"]\n",
    "Using random.choice() from NumPy, generate an array\n",
    "from the list above. The shape of the array must be (3, 4)."
   ]
  },
  {
   "cell_type": "code",
   "execution_count": 8,
   "id": "6d3d660c-1ac2-48f8-b1e7-e90ce730a9eb",
   "metadata": {},
   "outputs": [
    {
     "data": {
      "text/plain": [
       "array([['Apple', 'Orange', 'Pear', 'Apple'],\n",
       "       ['Pear', 'Apple', 'Orange', 'Apple'],\n",
       "       ['Apple', 'Apple', 'Apple', 'Apple']], dtype='<U6')"
      ]
     },
     "execution_count": 8,
     "metadata": {},
     "output_type": "execute_result"
    }
   ],
   "source": [
    "arrr=[\"Orange\", \"Apple\", \"Pear\"]\n",
    "\n",
    "# constructing a random generator\n",
    "\n",
    "rang = np.random.default_rng(seed=24)\n",
    "arrr1 = rang.choice(arrr, size=(3,4))\n",
    "arrr1"
   ]
  },
  {
   "cell_type": "code",
   "execution_count": null,
   "id": "b4e2d442-3fe5-47b0-a210-9794fd2bce6b",
   "metadata": {},
   "outputs": [],
   "source": []
  }
 ],
 "metadata": {
  "kernelspec": {
   "display_name": "Python 3 (ipykernel)",
   "language": "python",
   "name": "python3"
  },
  "language_info": {
   "codemirror_mode": {
    "name": "ipython",
    "version": 3
   },
   "file_extension": ".py",
   "mimetype": "text/x-python",
   "name": "python",
   "nbconvert_exporter": "python",
   "pygments_lexer": "ipython3",
   "version": "3.12.0"
  }
 },
 "nbformat": 4,
 "nbformat_minor": 5
}
