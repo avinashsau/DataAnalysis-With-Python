{
 "cells": [
  {
   "cell_type": "markdown",
   "id": "11fcf677-ede5-472e-a2de-47d96d09245d",
   "metadata": {},
   "source": [
    "## Day 8: Slicing NumPy Arrays\n",
    "This challenge will test your abilities to create and slice\n",
    "NumPy arrays. Learning to slice NumPy arrays is an\n",
    "important skill to have for anyone working with data\n",
    "because it allows you to extract and manipulate specific\n",
    "portions of an array. This is especially useful when working\n",
    "with large datasets, as it allows you to perform operations\n",
    "on a subset of the data rather than the entire array. This is\n",
    "what is called \"dimensionality reduction.\"\n",
    "1. Create a one-dimensional array with random integers\n",
    "between 0 and 20. The size of the array is 10. Ensure that\n",
    "the results are reproducible.\n",
    "2. Using slicing, create a subset array of 3 integers from the\n",
    "array you created in question 1. The first integer is at index\n",
    "2, the second integer is at index 4, and the third index is\n",
    "at index 7.\n",
    "3. Create a two-dimensional array from the list below. Check the\n",
    "dimensions and shape of your array.\n",
    "My_list = [[1, 2, 3, 4, 5], [6, 7, 8, 9, 10],\n",
    "[11, 12, 13, 14, 15]]\n",
    "Using slicing, write a code to access the numbers 3, 8, and 13. Your code should return [3, 8, 13].\n",
    "4. Create a three-dimensional array from the nested list below:\n",
    "lis1 = [[[1, 2, 3, 4, 5], [6, 7, 8, 9, 10],\n",
    "[11, 12, 13, 14, 15]]]\n",
    "Using slicing, write code that creates a sublist from the\n",
    "array you created. Your code should return an array of\n",
    "numbers (4, 8, and 15)."
   ]
  },
  {
   "cell_type": "markdown",
   "id": "1b2f1897-4529-4950-8309-00e3b95a12fa",
   "metadata": {},
   "source": [
    "## Task 1\n",
    "Create a one-dimensional array with random integers between 0 and 20. The size of the array is 10. Ensure that the results are reproducible."
   ]
  },
  {
   "cell_type": "code",
   "execution_count": 9,
   "id": "5302cfc8-469e-43e2-a2dc-8926ba66efe0",
   "metadata": {},
   "outputs": [
    {
     "data": {
      "text/plain": [
       "array([ 1, 16, 13,  9,  9, 18,  1, 14,  4,  1], dtype=int64)"
      ]
     },
     "execution_count": 9,
     "metadata": {},
     "output_type": "execute_result"
    }
   ],
   "source": [
    "import numpy as np\n",
    "rng = np.random.default_rng(seed=42)\n",
    "# arr = rng.integers(low=0, high=21, size=10)\n",
    "arr = rng.integers(21, size=10)\n",
    "arr"
   ]
  },
  {
   "cell_type": "markdown",
   "id": "922d2b41-84bc-4839-8a42-dde3a1ef7ffa",
   "metadata": {},
   "source": [
    "## Task 2\n",
    "Using slicing, create a subset array of 3 integers from the array you created in question 1. The first integer is at index 2, the second integer is at index 4, and the third index is at index 7."
   ]
  },
  {
   "cell_type": "code",
   "execution_count": 11,
   "id": "ca4940eb-fa98-4832-8716-1fdfbec0abf5",
   "metadata": {},
   "outputs": [
    {
     "data": {
      "text/plain": [
       "array([13,  9, 14], dtype=int64)"
      ]
     },
     "execution_count": 11,
     "metadata": {},
     "output_type": "execute_result"
    }
   ],
   "source": [
    "arr1 = arr[[2,4,7]]\n",
    "arr1"
   ]
  },
  {
   "cell_type": "markdown",
   "id": "819c2011-f9c0-418c-b20f-f74865dd6d2a",
   "metadata": {},
   "source": [
    "## Task 3\n",
    "Create a two-dimensional array from the list below. Check the dimensions and shape of your array. My_list = [[1, 2, 3, 4, 5], [6, 7, 8, 9, 10], [11, 12, 13, 14, 15]] Using slicing, write a code to access the numbers 3, 8, and 13"
   ]
  },
  {
   "cell_type": "code",
   "execution_count": 19,
   "id": "db26edd0-8d4c-4d5e-a492-1cb8d9ddc9a7",
   "metadata": {},
   "outputs": [
    {
     "name": "stdout",
     "output_type": "stream",
     "text": [
      "[ 3  8 13]\n"
     ]
    }
   ],
   "source": [
    "my_list = [[1, 2, 3, 4, 5], [6, 7, 8, 9, 10], [11, 12, 13, 14, 15]]\n",
    "\n",
    "# convert the list to an Numpy Array\n",
    "array2 = np.array(my_list)\n",
    "array2\n",
    "array2.ndim\n",
    "array2.shape\n",
    "sub_array = array2[0,2], array2[1,2], array2[2,2]\n",
    "sub_array ## Output as touple. we need to convert it to array\n",
    "print(np.array(sub_array))"
   ]
  },
  {
   "cell_type": "markdown",
   "id": "86e8d28a-1f15-4a63-aea0-9379fbbafc37",
   "metadata": {},
   "source": [
    "## Task 4\n",
    "\n",
    "Create a three-dimensional array from the nested list below: lis1 = [[[1, 2, 3, 4, 5], [6, 7, 8, 9, 10], [11, 12, 13, 14, 15]]] Using slicing, write code that creates a sublist from the array you created. Your code should return an array of numbers (4, 8, and 15)."
   ]
  },
  {
   "cell_type": "code",
   "execution_count": 20,
   "id": "4b5f7dd2-808e-4bea-bbef-37917ef37f03",
   "metadata": {},
   "outputs": [
    {
     "data": {
      "text/plain": [
       "array([ 4,  8, 15])"
      ]
     },
     "execution_count": 20,
     "metadata": {},
     "output_type": "execute_result"
    }
   ],
   "source": [
    "list1 = [[[1, 2, 3, 4, 5], [6, 7, 8, 9, 10], [11, 12, 13, 14, 15]]] \n",
    "array3 = np.array(list1)\n",
    "\n",
    "# use slicing to create the sublist\n",
    "\n",
    "sublist = array3[0,0,3], array3[0,1,2], array3[0,2,4]\n",
    "np.array(sublist)"
   ]
  },
  {
   "cell_type": "code",
   "execution_count": null,
   "id": "809cc0ea-6d03-4124-87c1-fe4fa6913fd4",
   "metadata": {},
   "outputs": [],
   "source": []
  }
 ],
 "metadata": {
  "kernelspec": {
   "display_name": "Python 3 (ipykernel)",
   "language": "python",
   "name": "python3"
  },
  "language_info": {
   "codemirror_mode": {
    "name": "ipython",
    "version": 3
   },
   "file_extension": ".py",
   "mimetype": "text/x-python",
   "name": "python",
   "nbconvert_exporter": "python",
   "pygments_lexer": "ipython3",
   "version": "3.12.0"
  }
 },
 "nbformat": 4,
 "nbformat_minor": 5
}
