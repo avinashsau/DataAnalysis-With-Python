{
 "cells": [
  {
   "cell_type": "markdown",
   "id": "d4475f2f-510a-4543-8b47-f6b01fdf1000",
   "metadata": {},
   "source": [
    "Creating a NumPy Array\n",
    "\n",
    "Lets create a one dimensional Array(below). "
   ]
  },
  {
   "cell_type": "code",
   "execution_count": 3,
   "id": "45048458-2d84-44c3-9937-61f3e8395481",
   "metadata": {},
   "outputs": [
    {
     "data": {
      "text/plain": [
       "array([1, 2, 3, 4, 5])"
      ]
     },
     "execution_count": 3,
     "metadata": {},
     "output_type": "execute_result"
    }
   ],
   "source": [
    "import numpy as np\n",
    "list = [1,2,3,4,5]\n",
    "array1 = np.array(list)\n",
    "array1"
   ]
  },
  {
   "cell_type": "markdown",
   "id": "8f560583-4c29-4029-a290-5e12b92af58c",
   "metadata": {},
   "source": [
    "the data type is inferred from the data itself.\n",
    "- We can set the datatype using \"dtype\"parameter"
   ]
  },
  {
   "cell_type": "code",
   "execution_count": 4,
   "id": "5a3c5c5f-870c-4f09-936f-181b722452ec",
   "metadata": {},
   "outputs": [
    {
     "data": {
      "text/plain": [
       "array([1., 2., 3., 4., 5., 6., 7.])"
      ]
     },
     "execution_count": 4,
     "metadata": {},
     "output_type": "execute_result"
    }
   ],
   "source": [
    "lst = [1,2,3,4,5,6,7]\n",
    "arr = np.array(lst, dtype=float)\n",
    "arr"
   ]
  },
  {
   "cell_type": "markdown",
   "id": "5ae4d8af-c12b-4af7-b1c1-e4b7343b614d",
   "metadata": {},
   "source": [
    "We can create Multi-dimensional array using Nested List. Here is the example for the same."
   ]
  },
  {
   "cell_type": "code",
   "execution_count": 9,
   "id": "8011be3c-d9c9-4dca-9df0-32fa6a3ac0af",
   "metadata": {},
   "outputs": [
    {
     "data": {
      "text/plain": [
       "array([['john', 'paul', 'cruz'],\n",
       "       ['Asmaa', 'al', 'Awdhi'],\n",
       "       ['Avinash', 'Kumar', 'sheohar']], dtype='<U7')"
      ]
     },
     "execution_count": 9,
     "metadata": {},
     "output_type": "execute_result"
    }
   ],
   "source": [
    "names = [[\"john\", \"paul\", \"cruz\"], [\"Asmaa\", \"al\", \"Awdhi\"], ['Avinash', \"Kumar\", \"sheohar\"]]\n",
    "arr = np.array(names)\n",
    "arr"
   ]
  },
  {
   "cell_type": "markdown",
   "id": "704d72d4-0e8b-42e9-80ef-5c02c7d3f38e",
   "metadata": {},
   "source": [
    "You CAN CHECK THE DIMENSION OF THE ARRAY USING \"ndim\" ATTRIBUTE"
   ]
  },
  {
   "cell_type": "code",
   "execution_count": 11,
   "id": "00c194f5-872f-456f-bf50-d91cbfb3ce0c",
   "metadata": {},
   "outputs": [
    {
     "data": {
      "text/plain": [
       "2"
      ]
     },
     "execution_count": 11,
     "metadata": {},
     "output_type": "execute_result"
    }
   ],
   "source": [
    "arr.ndim"
   ]
  },
  {
   "cell_type": "markdown",
   "id": "ba050d44-db12-4ef9-a5bf-69db6cbef7d1",
   "metadata": {},
   "source": [
    "\"np.arange()\" : \n",
    "\n",
    "THIS FUNCTION CREATES AN ARRAY WITH REGULARLY SPECED VALUE WITHIN A GIVEN RANGE. IT WORKS VERY SIMILAR TO AS PYTHON ARANGE FUNCTION WHEN APPLIED TO NUMBERS. HERE IS AN EXAMPLE OF HOW TO GENERATE AN ARRAY. THIS WILL CREATE A ONE DIMENSIONAL ARRAY OF NUMBER BETWEEN 0 TO 100 (NOT INCLUDING 100) WITH AN STEP SIZE OF 3"
   ]
  },
  {
   "cell_type": "code",
   "execution_count": 18,
   "id": "fec3b010-105f-494b-8295-5464821494c8",
   "metadata": {},
   "outputs": [
    {
     "data": {
      "text/plain": [
       "array([ 0,  3,  6,  9, 12, 15, 18, 21, 24, 27, 30, 33, 36, 39, 42, 45, 48,\n",
       "       51, 54, 57, 60, 63, 66, 69, 72, 75, 78, 81, 84, 87, 90, 93, 96, 99])"
      ]
     },
     "execution_count": 18,
     "metadata": {},
     "output_type": "execute_result"
    }
   ],
   "source": [
    "arr = np.arange(0, 100, 3)\n",
    "arr"
   ]
  },
  {
   "cell_type": "markdown",
   "id": "47df5f75-9c1d-4f8e-b010-2fa0eabf678f",
   "metadata": {},
   "source": [
    "\"np.zeros()\" : \n",
    "\n",
    "THIS FUCNTION CREATES AN ARRAY WITH ALL ITS ELEMENTS AS ZERO. DEFAULT DATA TYPE IS FLOAT. YOU CAN MENTION THE DATA TYPE PARAMETER "
   ]
  },
  {
   "cell_type": "code",
   "execution_count": 26,
   "id": "dc124c75-f16e-482a-bcb4-0b7f7313c329",
   "metadata": {},
   "outputs": [
    {
     "data": {
      "text/plain": [
       "array([[0., 0.],\n",
       "       [0., 0.]])"
      ]
     },
     "execution_count": 26,
     "metadata": {},
     "output_type": "execute_result"
    }
   ],
   "source": [
    "arr = np.zeros((2,2), dtype=float)\n",
    "arr"
   ]
  },
  {
   "cell_type": "markdown",
   "id": "1d42b1d5-8df3-4e42-b86f-b928710e4665",
   "metadata": {},
   "source": [
    "\"np.ones()\" : \n",
    "\n",
    "THIS FUNCTION CREATE AN ARRAY WITH ALL THE ELEMENTS AS ONES. DEFAULT DATATYPE IS FLOAT. YOU CAN PROVIDE THE DATATYPE USING DTYPE PARAMENTER"
   ]
  },
  {
   "cell_type": "code",
   "execution_count": 29,
   "id": "e9140ae0-8c24-4850-a780-09c995f5f3ad",
   "metadata": {},
   "outputs": [
    {
     "data": {
      "text/plain": [
       "array([[1, 1, 1, 1, 1],\n",
       "       [1, 1, 1, 1, 1],\n",
       "       [1, 1, 1, 1, 1],\n",
       "       [1, 1, 1, 1, 1],\n",
       "       [1, 1, 1, 1, 1]])"
      ]
     },
     "execution_count": 29,
     "metadata": {},
     "output_type": "execute_result"
    }
   ],
   "source": [
    "arr = np.ones((5,5), dtype=int)\n",
    "arr"
   ]
  },
  {
   "cell_type": "markdown",
   "id": "eb350ed8-e2c0-4c7a-8783-05c040273040",
   "metadata": {},
   "source": [
    "\"numpy.random.generator.integers\" : \n",
    "\n",
    "THIS FUNCTION IS USED BY THE NUMPY LIBRARY TO GENERATE RANDOM INTEGERS WITHIN SPECIFIED RANGE OR WITH THE SPECIFIED SET OF VALUES.\n",
    "\n",
    "Let’s say we want to create an array of random integers from 0 to 9, with 2 rows and 4 columns. First, we will create a random number generator, and then we will use the generator to generate the array. Here is how we can use this function to achieve that:"
   ]
  },
  {
   "cell_type": "code",
   "execution_count": 30,
   "id": "2e48c720-43b6-4b84-979b-66746b9a2125",
   "metadata": {},
   "outputs": [
    {
     "data": {
      "text/plain": [
       "array([[77, 72, 25, 69, 48],\n",
       "       [ 9, 58, 97, 58, 55],\n",
       "       [23,  7, 66, 21, 17],\n",
       "       [58, 50, 53, 24, 23],\n",
       "       [79, 94,  9, 11, 93]], dtype=int64)"
      ]
     },
     "execution_count": 30,
     "metadata": {},
     "output_type": "execute_result"
    }
   ],
   "source": [
    "# CREATE A RANDOM NUMBER GENERATOR\n",
    "rng = np.random.default_rng()\n",
    "\n",
    "# GENERATE RANDOM INTEGER FROM 0 TO 9\n",
    "\n",
    "rng.integers(low=0, high=100, size=(5,5))"
   ]
  },
  {
   "cell_type": "markdown",
   "id": "af9eeead-f26d-451c-89ec-eaf11b62eddd",
   "metadata": {},
   "source": [
    "Note: \n",
    "\n",
    "THE OUTPUT WILL ALWAYS VARY AS THEY ARE GENERATED RANDOMLY."
   ]
  },
  {
   "cell_type": "markdown",
   "id": "45146d4c-7ca6-437e-8197-f89be4073e1f",
   "metadata": {},
   "source": [
    "\"numpy.random.generator.random\":\n",
    "\n",
    "THIS METHOD CREATES AN ARRAY OF RANDOM FLOATS. \n",
    "\n",
    "lETS CREATE AN ARRAY OF RANDOM FLOATS BETWEEN 0 AND 1, IN THE SHAPE OF 2 ROWS AND 5 COLUMNS."
   ]
  },
  {
   "cell_type": "code",
   "execution_count": 35,
   "id": "0306ffe5-5055-4c9a-ae71-44158e44b4ca",
   "metadata": {},
   "outputs": [
    {
     "data": {
      "text/plain": [
       "array([[0.70169682, 0.23285972, 0.46247919, 0.84848038, 0.98612345],\n",
       "       [0.74843469, 0.14500038, 0.04583868, 0.55097577, 0.16273082]])"
      ]
     },
     "execution_count": 35,
     "metadata": {},
     "output_type": "execute_result"
    }
   ],
   "source": [
    "rng = np.random.default_rng()\n",
    "rng.random((2,5))"
   ]
  },
  {
   "cell_type": "markdown",
   "id": "e29ea4e7-d54a-4c21-bb68-9b7da7c26c5c",
   "metadata": {},
   "source": [
    "SINCE OUTPUT IS RANDOM, YOU WILL GET DIFFERENT RESULT EVERYTIME YOU EXECUTE IT. TO ENSURE THAT THE OUTPUT IS REPRODUEABLE, WE SET THE \"seed = 24\". THIS MEANS THE THE GENERATED RANDOM STATE WILL BE REPEATED EVERYTIME YOU WILL RUN THE CODE."
   ]
  },
  {
   "cell_type": "code",
   "execution_count": 44,
   "id": "a3ee0632-47e3-4cdf-8d23-d68e3a314a22",
   "metadata": {},
   "outputs": [
    {
     "data": {
      "text/plain": [
       "array([[0.33026884, 0.40517732, 0.57473782, 0.50639977, 0.56421251],\n",
       "       [0.56968731, 0.87411653, 0.08643046, 0.74247527, 0.82036726]])"
      ]
     },
     "execution_count": 44,
     "metadata": {},
     "output_type": "execute_result"
    }
   ],
   "source": [
    "rng = np.random.default_rng(seed=24)\n",
    "rng.random((2,5))"
   ]
  },
  {
   "cell_type": "markdown",
   "id": "867b9c25-7cd1-4d85-a1e4-25fe6cc13deb",
   "metadata": {},
   "source": [
    "ACCESSING ARRAY ELEMENTS : \n",
    "\n",
    "NUMPY ARRAY ARE INDEXED USING INTEGER STARTING FROM ZERO. HERE ARE FEW WAYS OF ACCESSING THE NUMPY ARRAY ELEMENTS.\n",
    "\n",
    "1. SLICING\n",
    "   This is similar to Python lists, where you can access a range of elements using a colon (:)."
   ]
  },
  {
   "cell_type": "code",
   "execution_count": 45,
   "id": "a71a594d-5efd-4cd8-8913-f4bd2cd5988d",
   "metadata": {},
   "outputs": [
    {
     "data": {
      "text/plain": [
       "array([['avinash', 'kumar', 'dubai'],\n",
       "       ['raju', 'babu', 'sheohar']], dtype='<U7')"
      ]
     },
     "execution_count": 45,
     "metadata": {},
     "output_type": "execute_result"
    }
   ],
   "source": [
    "names = [[\"avinash\", \"kumar\", \"dubai\"], [\"raju\", \"babu\", \"sheohar\"]]\n",
    "arr = np.array(names)\n",
    "arr"
   ]
  },
  {
   "cell_type": "code",
   "execution_count": 48,
   "id": "d00aa79e-67f1-4656-a7a1-5cc5c800aab0",
   "metadata": {},
   "outputs": [
    {
     "data": {
      "text/plain": [
       "'sheohar'"
      ]
     },
     "execution_count": 48,
     "metadata": {},
     "output_type": "execute_result"
    }
   ],
   "source": [
    "select_sheohar = arr[1,2]\n",
    "select_sheohar"
   ]
  },
  {
   "cell_type": "code",
   "execution_count": 49,
   "id": "1baa0f52-0961-4da1-9ac6-47dbaf20b9a2",
   "metadata": {},
   "outputs": [
    {
     "data": {
      "text/plain": [
       "'babu'"
      ]
     },
     "execution_count": 49,
     "metadata": {},
     "output_type": "execute_result"
    }
   ],
   "source": [
    "select_babu = arr[1,1]\n",
    "select_babu"
   ]
  },
  {
   "cell_type": "code",
   "execution_count": 50,
   "id": "4b4d67d9-1eee-487a-9e13-56f9fbfbf80e",
   "metadata": {},
   "outputs": [
    {
     "data": {
      "text/plain": [
       "'avinash'"
      ]
     },
     "execution_count": 50,
     "metadata": {},
     "output_type": "execute_result"
    }
   ],
   "source": [
    "select_avinash = arr[0,0]\n",
    "select_avinash"
   ]
  },
  {
   "cell_type": "markdown",
   "id": "793377c0-bada-4b9c-ae4c-960ec220171e",
   "metadata": {},
   "source": [
    "LETS SAY YOU WANT TO SELECT THE NAMES \"babu\" AND \"sheohar\". HERE IS HOW YOU CAN USE SLICING FOR SUCH AN OPERATION"
   ]
  },
  {
   "cell_type": "code",
   "execution_count": 51,
   "id": "07776472-1c1d-40aa-a45d-f03af5daf0e4",
   "metadata": {},
   "outputs": [
    {
     "data": {
      "text/plain": [
       "array(['babu', 'sheohar'], dtype='<U7')"
      ]
     },
     "execution_count": 51,
     "metadata": {},
     "output_type": "execute_result"
    }
   ],
   "source": [
    "select_babu_sheohar = arr[1,1:]\n",
    "select_babu_sheohar"
   ]
  },
  {
   "cell_type": "markdown",
   "id": "52055446-e64b-4907-9c1e-b019e07c93dc",
   "metadata": {},
   "source": [
    "FANCY INDEXING: \n",
    "    This allows you to select elements based on a list of indices. LETS SAY IF YOU WANT TO SELECT THE ITEMS \"dubai\" and \"sheohar\" from the array, here is how we do it using fancy indexing."
   ]
  },
  {
   "cell_type": "code",
   "execution_count": 60,
   "id": "d6dfd4a4-90f6-4542-a4f4-3d382ef9a548",
   "metadata": {},
   "outputs": [
    {
     "ename": "IndexError",
     "evalue": "index 2 is out of bounds for axis 0 with size 2",
     "output_type": "error",
     "traceback": [
      "\u001b[1;31m---------------------------------------------------------------------------\u001b[0m",
      "\u001b[1;31mIndexError\u001b[0m                                Traceback (most recent call last)",
      "Cell \u001b[1;32mIn[60], line 8\u001b[0m\n\u001b[0;32m      4\u001b[0m select_sheohar \u001b[38;5;241m=\u001b[39m np\u001b[38;5;241m.\u001b[39marray([\u001b[38;5;241m1\u001b[39m,\u001b[38;5;241m2\u001b[39m])\n\u001b[0;32m      6\u001b[0m \u001b[38;5;66;03m# Using fancy indexing to select\u001b[39;00m\n\u001b[1;32m----> 8\u001b[0m \u001b[43marr\u001b[49m\u001b[43m[\u001b[49m\u001b[43mselect_dubai\u001b[49m\u001b[43m]\u001b[49m\n",
      "\u001b[1;31mIndexError\u001b[0m: index 2 is out of bounds for axis 0 with size 2"
     ]
    }
   ],
   "source": [
    "# Creating an elements indices\n",
    "\n",
    "select_dubai = np.array([0,2])\n",
    "select_sheohar = np.array([1,2])\n",
    "\n",
    "# Using fancy indexing to select\n",
    "\n",
    "arr[select_dubai]"
   ]
  },
  {
   "cell_type": "code",
   "execution_count": null,
   "id": "2e80ca5a-3423-4277-9c2c-16608957a345",
   "metadata": {},
   "outputs": [],
   "source": []
  }
 ],
 "metadata": {
  "kernelspec": {
   "display_name": "Python 3 (ipykernel)",
   "language": "python",
   "name": "python3"
  },
  "language_info": {
   "codemirror_mode": {
    "name": "ipython",
    "version": 3
   },
   "file_extension": ".py",
   "mimetype": "text/x-python",
   "name": "python",
   "nbconvert_exporter": "python",
   "pygments_lexer": "ipython3",
   "version": "3.12.0"
  }
 },
 "nbformat": 4,
 "nbformat_minor": 5
}
