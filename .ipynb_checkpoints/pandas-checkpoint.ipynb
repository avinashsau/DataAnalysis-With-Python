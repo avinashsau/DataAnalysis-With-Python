{
 "cells": [
  {
   "cell_type": "markdown",
   "id": "7b5683cb-b554-46fe-bc92-e219a5bac497",
   "metadata": {},
   "source": [
    "# Pandas\n",
    "Pandas is an open-source data analysis and manipulation\n",
    "library in Python. It provides data structures for efficiently\n",
    "storing and manipulating large datasets, as well as tools for\n",
    "reading and writing data from various sources. we'll go over the basics of pandas and introduce\n",
    "some of their most important functions."
   ]
  },
  {
   "cell_type": "markdown",
   "id": "6b7e5b30-d25c-4cb5-a601-eda8d6657b78",
   "metadata": {},
   "source": [
    "# 1. Pandas Series\n",
    "A pandas Series is a one-dimensional array. Simply put, a\n",
    "series has one column and an index. In pandas, we can\n",
    "create a one-dimensional array using the Series method."
   ]
  },
  {
   "cell_type": "code",
   "execution_count": 6,
   "id": "3eb98086-ac84-4d18-aa9e-b21e318f8e36",
   "metadata": {},
   "outputs": [
    {
     "data": {
      "text/plain": [
       "0    Orange\n",
       "1     Apple\n",
       "2     Mango\n",
       "Name: fruits, dtype: object"
      ]
     },
     "execution_count": 6,
     "metadata": {},
     "output_type": "execute_result"
    }
   ],
   "source": [
    "import pandas as pd\n",
    "\n",
    "# create a Series\n",
    "\n",
    "fruits = pd.Series([\"Orange\", \"Apple\", \"Mango\"], name=\"fruits\")\n",
    "fruits"
   ]
  },
  {
   "cell_type": "markdown",
   "id": "a945046a-01e1-4a83-9e83-e4860f8a3a9b",
   "metadata": {},
   "source": [
    "In the above code, we have made a one-dimensional array\n",
    "using pandas. We passed a list [\"Orange,\" \"Apple,\" \"Mango\"]\n",
    "as an argument to the function. The output on the far left\n",
    "(0, 1, 2) is the index of the Series. And on the right is a column of the data in the Series. By default, the index will\n",
    "start from (0, 1, 2,... n)."
   ]
  },
  {
   "cell_type": "markdown",
   "id": "0bd9ab94-cf0a-43c8-a028-5ae6e9bda9af",
   "metadata": {},
   "source": [
    "# 1.1 Series Index and Names\n",
    "We can also specify the values of the index using the index\n",
    "parameter. The specified index must be the same length as\n",
    "the items (data) in the Series and does not have to be\n",
    "unique (meaning you can pass the same index value for all\n",
    "the data). In the example below, we specify the values of the\n",
    "index. You can see in the output that the series is now (a, b,\n",
    "c). We could have passed (c, c, c) as index values, and it\n",
    "would still be valid. However, it is good practice to have\n",
    "unique values for the index."
   ]
  },
  {
   "cell_type": "code",
   "execution_count": 7,
   "id": "6ee8fe55-81b3-4586-bb18-d6f4991d0d3c",
   "metadata": {},
   "outputs": [
    {
     "data": {
      "text/plain": [
       "a    Orange\n",
       "b     Apple\n",
       "c     Mango\n",
       "Name: fruits, dtype: object"
      ]
     },
     "execution_count": 7,
     "metadata": {},
     "output_type": "execute_result"
    }
   ],
   "source": [
    "fruits = pd.Series([\"Orange\", \"Apple\", \"Mango\"], name=\"fruits\", index = ['a', 'b', 'c'])\n",
    "fruits"
   ]
  },
  {
   "cell_type": "markdown",
   "id": "f9df3ef7-616b-4254-89c0-5f713d44f2a4",
   "metadata": {},
   "source": [
    "\n",
    "The name of the Series is \"fruits.\" This is the name that we\n",
    "have passed to the name parameter as an argument. The\n",
    "name parameter is optional."
   ]
  },
  {
   "cell_type": "markdown",
   "id": "0fc51b63-941d-4f70-a592-0738363e3dce",
   "metadata": {},
   "source": [
    "# 1.2 Series Data Type\n",
    "The dtype in the Series means \"data type.\" By default, the\n",
    "data type is inferred from the data in the Series. The data\n",
    "type of our series above is object data type. If the series'\n",
    "data is of the string type, the inferred data type will be\n",
    "object. Because the items in the list are strings, as you can\n",
    "see from our code, our data type is an object. If the data is\n",
    "a mixture of different data types, e.g., strings and integers, then the data type will be \"object.\" Let’s see what happens\n",
    "when we create a series of integers."
   ]
  },
  {
   "cell_type": "code",
   "execution_count": 8,
   "id": "20277d62-347e-4d5a-9c24-2a994f4bf71e",
   "metadata": {},
   "outputs": [
    {
     "data": {
      "text/plain": [
       "0    10\n",
       "1    20\n",
       "2    30\n",
       "Name: numbers, dtype: int64"
      ]
     },
     "execution_count": 8,
     "metadata": {},
     "output_type": "execute_result"
    }
   ],
   "source": [
    "int_numbers = pd.Series([10, 20, 30], name=\"numbers\")\n",
    "int_numbers"
   ]
  },
  {
   "cell_type": "markdown",
   "id": "1a95baf7-b7a2-4d6a-a345-25fff96b7d9d",
   "metadata": {},
   "source": [
    "You can see from the output that the data type is now int64\n",
    "(a 64-bit integer). This is because the data in our Series is\n",
    "in integers. What happens when we mix integers with\n",
    "strings? You can see below that the dtype has changed to\n",
    "\"object.\" By default, heterogeneous data will be interpreted\n",
    "as object data."
   ]
  },
  {
   "cell_type": "code",
   "execution_count": 9,
   "id": "c45e2e26-9054-4927-b6de-54ac7042e172",
   "metadata": {},
   "outputs": [
    {
     "data": {
      "text/plain": [
       "0        10\n",
       "1        20\n",
       "2        30\n",
       "3    Orange\n",
       "Name: mixed, dtype: object"
      ]
     },
     "execution_count": 9,
     "metadata": {},
     "output_type": "execute_result"
    }
   ],
   "source": [
    "int_str = pd.Series([10, 20, 30, 'Orange'], name=\"mixed\")\n",
    "\n",
    "int_str"
   ]
  },
  {
   "cell_type": "markdown",
   "id": "780f8b11-96e2-46ec-b2c3-7f94d822c17f",
   "metadata": {},
   "source": [
    "You can also specify the data type of the Series. The series\n",
    "function has a dtype parameter where we can pass a data\n",
    "type as an argument."
   ]
  },
  {
   "cell_type": "code",
   "execution_count": 10,
   "id": "0084222c-dd88-4fa9-9040-3969ffec5927",
   "metadata": {},
   "outputs": [
    {
     "data": {
      "text/plain": [
       "0    10\n",
       "1    20\n",
       "2    30\n",
       "Name: mixed, dtype: int8"
      ]
     },
     "execution_count": 10,
     "metadata": {},
     "output_type": "execute_result"
    }
   ],
   "source": [
    "int_str = pd.Series([10, 20, 30], name=\"mixed\", dtype=\"int8\")\n",
    "\n",
    "int_str"
   ]
  },
  {
   "cell_type": "markdown",
   "id": "a6757aff-3100-444d-8830-7741bb7c0986",
   "metadata": {},
   "source": [
    "It is also possible to change the data type of a series after it\n",
    "is created. This can be done using the astype() method."
   ]
  },
  {
   "cell_type": "code",
   "execution_count": 11,
   "id": "e7df26f0-a472-4419-9b3d-04902d374b36",
   "metadata": {},
   "outputs": [
    {
     "data": {
      "text/plain": [
       "0    10\n",
       "1    20\n",
       "2    30\n",
       "3    40\n",
       "dtype: int64"
      ]
     },
     "execution_count": 11,
     "metadata": {},
     "output_type": "execute_result"
    }
   ],
   "source": [
    "num_series = pd.Series([10, 20, 30, 40])\n",
    "num_series"
   ]
  },
  {
   "cell_type": "markdown",
   "id": "29cc7a2b-5d4c-4074-bf28-c9dc9266f18c",
   "metadata": {},
   "source": [
    "Now let's change the dtype of the Seriess to float64"
   ]
  },
  {
   "cell_type": "code",
   "execution_count": 12,
   "id": "955e278a-00c1-42af-9377-893eb4bc220e",
   "metadata": {},
   "outputs": [
    {
     "data": {
      "text/plain": [
       "0    10.0\n",
       "1    20.0\n",
       "2    30.0\n",
       "3    40.0\n",
       "dtype: float64"
      ]
     },
     "execution_count": 12,
     "metadata": {},
     "output_type": "execute_result"
    }
   ],
   "source": [
    "num_series = num_series.astype(\"float64\")\n",
    "num_series"
   ]
  },
  {
   "cell_type": "markdown",
   "id": "6634f92d-c295-40b7-b94a-40e159ade213",
   "metadata": {},
   "source": [
    "# 2. Creating a Pandas DataFrame\n",
    "\n",
    "To create a pandas DataFrame, you can pass a dictionary\n",
    "or a list of lists as the argument to the DataFrame function.\n",
    "The names of the columns are passed as a separate\n",
    "argument to the columns parameter:\n"
   ]
  },
  {
   "cell_type": "code",
   "execution_count": 13,
   "id": "8ed5b6dd-3db2-43c0-9845-af84ea897acb",
   "metadata": {},
   "outputs": [
    {
     "data": {
      "text/html": [
       "<div>\n",
       "<style scoped>\n",
       "    .dataframe tbody tr th:only-of-type {\n",
       "        vertical-align: middle;\n",
       "    }\n",
       "\n",
       "    .dataframe tbody tr th {\n",
       "        vertical-align: top;\n",
       "    }\n",
       "\n",
       "    .dataframe thead th {\n",
       "        text-align: right;\n",
       "    }\n",
       "</style>\n",
       "<table border=\"1\" class=\"dataframe\">\n",
       "  <thead>\n",
       "    <tr style=\"text-align: right;\">\n",
       "      <th></th>\n",
       "      <th>Name</th>\n",
       "      <th>Age</th>\n",
       "      <th>Salary</th>\n",
       "    </tr>\n",
       "  </thead>\n",
       "  <tbody>\n",
       "    <tr>\n",
       "      <th>0</th>\n",
       "      <td>Alice</td>\n",
       "      <td>25</td>\n",
       "      <td>50000</td>\n",
       "    </tr>\n",
       "    <tr>\n",
       "      <th>1</th>\n",
       "      <td>Bob</td>\n",
       "      <td>32</td>\n",
       "      <td>80000</td>\n",
       "    </tr>\n",
       "    <tr>\n",
       "      <th>2</th>\n",
       "      <td>Charlie</td>\n",
       "      <td>18</td>\n",
       "      <td>20000</td>\n",
       "    </tr>\n",
       "    <tr>\n",
       "      <th>3</th>\n",
       "      <td>David</td>\n",
       "      <td>47</td>\n",
       "      <td>120000</td>\n",
       "    </tr>\n",
       "  </tbody>\n",
       "</table>\n",
       "</div>"
      ],
      "text/plain": [
       "      Name  Age  Salary\n",
       "0    Alice   25   50000\n",
       "1      Bob   32   80000\n",
       "2  Charlie   18   20000\n",
       "3    David   47  120000"
      ]
     },
     "execution_count": 13,
     "metadata": {},
     "output_type": "execute_result"
    }
   ],
   "source": [
    "data = { 'Name': ['Alice', 'Bob', 'Charlie', 'David'],\n",
    "         'Age': [25, 32, 18, 47], \n",
    "         'Salary': [50000, 80000, 20000, 120000]}\n",
    "df = pd.DataFrame(data, columns=['Name', 'Age', 'Salary'])\n",
    "df"
   ]
  },
  {
   "cell_type": "markdown",
   "id": "d7a0cf8c-2c3b-4c2b-80e7-c64ba3b24d3e",
   "metadata": {},
   "source": [
    "You can also create a DataFrame from lists by passing them\n",
    "to the DataFrame function as a dictionary."
   ]
  },
  {
   "cell_type": "code",
   "execution_count": 14,
   "id": "7c137ff8-39b8-4582-b9c4-7916694db3e4",
   "metadata": {},
   "outputs": [
    {
     "data": {
      "text/html": [
       "<div>\n",
       "<style scoped>\n",
       "    .dataframe tbody tr th:only-of-type {\n",
       "        vertical-align: middle;\n",
       "    }\n",
       "\n",
       "    .dataframe tbody tr th {\n",
       "        vertical-align: top;\n",
       "    }\n",
       "\n",
       "    .dataframe thead th {\n",
       "        text-align: right;\n",
       "    }\n",
       "</style>\n",
       "<table border=\"1\" class=\"dataframe\">\n",
       "  <thead>\n",
       "    <tr style=\"text-align: right;\">\n",
       "      <th></th>\n",
       "      <th>Names</th>\n",
       "      <th>Age</th>\n",
       "      <th>Salary</th>\n",
       "    </tr>\n",
       "  </thead>\n",
       "  <tbody>\n",
       "    <tr>\n",
       "      <th>0</th>\n",
       "      <td>Alice</td>\n",
       "      <td>25</td>\n",
       "      <td>50000</td>\n",
       "    </tr>\n",
       "    <tr>\n",
       "      <th>1</th>\n",
       "      <td>Bob</td>\n",
       "      <td>32</td>\n",
       "      <td>80000</td>\n",
       "    </tr>\n",
       "    <tr>\n",
       "      <th>2</th>\n",
       "      <td>Charlie</td>\n",
       "      <td>18</td>\n",
       "      <td>20000</td>\n",
       "    </tr>\n",
       "    <tr>\n",
       "      <th>3</th>\n",
       "      <td>David</td>\n",
       "      <td>47</td>\n",
       "      <td>120000</td>\n",
       "    </tr>\n",
       "  </tbody>\n",
       "</table>\n",
       "</div>"
      ],
      "text/plain": [
       "     Names  Age  Salary\n",
       "0    Alice   25   50000\n",
       "1      Bob   32   80000\n",
       "2  Charlie   18   20000\n",
       "3    David   47  120000"
      ]
     },
     "execution_count": 14,
     "metadata": {},
     "output_type": "execute_result"
    }
   ],
   "source": [
    "names = ['Alice', 'Bob', 'Charlie', 'David']\n",
    "age = [25, 32, 18, 47]\n",
    "salary = [50000, 80000, 20000, 120000]\n",
    "\n",
    "df = pd.DataFrame({\"Names\": names, \"Age\": age, \"Salary\": salary})\n",
    "df"
   ]
  },
  {
   "cell_type": "markdown",
   "id": "2588ed82-2f52-4000-9f34-29f5b677c554",
   "metadata": {},
   "source": [
    "# 3. Data Loading Functions\n",
    "Pandas provides several functions for loading data from\n",
    "various sources:\n",
    "\n",
    "## 3.1 read_csv()\n",
    "This function is used to read data from a CSV file into a\n",
    "pandas DataFrame. Since most tabular data is saved in this\n",
    "format, this is one of the most commonly used functions in\n",
    "pandas. It provides options to specify the delimiter,\n",
    "encoding, header row, and more. Let’s say you have a file\n",
    "called \"Data\" saved in CSV format. Here is how you would\n",
    "open the file using the read_csv() function.\n",
    "\n",
    "## 3.2 read_csv()\n",
    "You can also use the pandas read_excel() files to read data\n",
    "from an Excel file into a pandas DataFrame. It provides\n",
    "options to specify the sheet name, header row, and more.\n",
    "\n",
    "## 3.3 read_sql()\n",
    "This function is used to read data from a SQL database into\n",
    "a pandas DataFrame. It requires a connection to the\n",
    "database and a SQL query."
   ]
  },
  {
   "cell_type": "code",
   "execution_count": 21,
   "id": "b357d793-8cae-407f-a8e1-5880ca6c9388",
   "metadata": {},
   "outputs": [
    {
     "data": {
      "text/html": [
       "<div>\n",
       "<style scoped>\n",
       "    .dataframe tbody tr th:only-of-type {\n",
       "        vertical-align: middle;\n",
       "    }\n",
       "\n",
       "    .dataframe tbody tr th {\n",
       "        vertical-align: top;\n",
       "    }\n",
       "\n",
       "    .dataframe thead th {\n",
       "        text-align: right;\n",
       "    }\n",
       "</style>\n",
       "<table border=\"1\" class=\"dataframe\">\n",
       "  <thead>\n",
       "    <tr style=\"text-align: right;\">\n",
       "      <th></th>\n",
       "      <th>Name</th>\n",
       "      <th>Sport</th>\n",
       "      <th>Goals</th>\n",
       "      <th>Assists</th>\n",
       "      <th>Fouls</th>\n",
       "      <th>Minutes Played</th>\n",
       "      <th>Yellow</th>\n",
       "      <th>Red Cards</th>\n",
       "      <th>Team</th>\n",
       "    </tr>\n",
       "  </thead>\n",
       "  <tbody>\n",
       "    <tr>\n",
       "      <th>0</th>\n",
       "      <td>Alex</td>\n",
       "      <td>Basketball</td>\n",
       "      <td>4</td>\n",
       "      <td>5</td>\n",
       "      <td>8</td>\n",
       "      <td>36</td>\n",
       "      <td>1</td>\n",
       "      <td>0</td>\n",
       "      <td>A</td>\n",
       "    </tr>\n",
       "    <tr>\n",
       "      <th>1</th>\n",
       "      <td>Bob</td>\n",
       "      <td>Soccer</td>\n",
       "      <td>0</td>\n",
       "      <td>2</td>\n",
       "      <td>1</td>\n",
       "      <td>31</td>\n",
       "      <td>0</td>\n",
       "      <td>0</td>\n",
       "      <td>B</td>\n",
       "    </tr>\n",
       "    <tr>\n",
       "      <th>2</th>\n",
       "      <td>Charlie</td>\n",
       "      <td>Basketball</td>\n",
       "      <td>2</td>\n",
       "      <td>2</td>\n",
       "      <td>6</td>\n",
       "      <td>34</td>\n",
       "      <td>1</td>\n",
       "      <td>0</td>\n",
       "      <td>A</td>\n",
       "    </tr>\n",
       "    <tr>\n",
       "      <th>3</th>\n",
       "      <td>David</td>\n",
       "      <td>Soccer</td>\n",
       "      <td>1</td>\n",
       "      <td>7</td>\n",
       "      <td>6</td>\n",
       "      <td>9</td>\n",
       "      <td>0</td>\n",
       "      <td>0</td>\n",
       "      <td>B</td>\n",
       "    </tr>\n",
       "    <tr>\n",
       "      <th>4</th>\n",
       "      <td>Eve</td>\n",
       "      <td>Basketball</td>\n",
       "      <td>8</td>\n",
       "      <td>2</td>\n",
       "      <td>6</td>\n",
       "      <td>29</td>\n",
       "      <td>0</td>\n",
       "      <td>0</td>\n",
       "      <td>A</td>\n",
       "    </tr>\n",
       "    <tr>\n",
       "      <th>5</th>\n",
       "      <td>Frank</td>\n",
       "      <td>Soccer</td>\n",
       "      <td>0</td>\n",
       "      <td>6</td>\n",
       "      <td>5</td>\n",
       "      <td>35</td>\n",
       "      <td>1</td>\n",
       "      <td>0</td>\n",
       "      <td>B</td>\n",
       "    </tr>\n",
       "    <tr>\n",
       "      <th>6</th>\n",
       "      <td>George</td>\n",
       "      <td>Basketball</td>\n",
       "      <td>5</td>\n",
       "      <td>8</td>\n",
       "      <td>8</td>\n",
       "      <td>3</td>\n",
       "      <td>1</td>\n",
       "      <td>0</td>\n",
       "      <td>A</td>\n",
       "    </tr>\n",
       "    <tr>\n",
       "      <th>7</th>\n",
       "      <td>Harry</td>\n",
       "      <td>Soccer</td>\n",
       "      <td>9</td>\n",
       "      <td>6</td>\n",
       "      <td>8</td>\n",
       "      <td>13</td>\n",
       "      <td>1</td>\n",
       "      <td>0</td>\n",
       "      <td>B</td>\n",
       "    </tr>\n",
       "    <tr>\n",
       "      <th>8</th>\n",
       "      <td>Ivan</td>\n",
       "      <td>Basketball</td>\n",
       "      <td>7</td>\n",
       "      <td>9</td>\n",
       "      <td>8</td>\n",
       "      <td>30</td>\n",
       "      <td>1</td>\n",
       "      <td>0</td>\n",
       "      <td>A</td>\n",
       "    </tr>\n",
       "    <tr>\n",
       "      <th>9</th>\n",
       "      <td>Jack</td>\n",
       "      <td>Soccer</td>\n",
       "      <td>8</td>\n",
       "      <td>1</td>\n",
       "      <td>3</td>\n",
       "      <td>58</td>\n",
       "      <td>1</td>\n",
       "      <td>0</td>\n",
       "      <td>B</td>\n",
       "    </tr>\n",
       "    <tr>\n",
       "      <th>10</th>\n",
       "      <td>Katie</td>\n",
       "      <td>Basketball</td>\n",
       "      <td>7</td>\n",
       "      <td>8</td>\n",
       "      <td>9</td>\n",
       "      <td>6</td>\n",
       "      <td>0</td>\n",
       "      <td>0</td>\n",
       "      <td>A</td>\n",
       "    </tr>\n",
       "    <tr>\n",
       "      <th>11</th>\n",
       "      <td>Liam</td>\n",
       "      <td>Soccer</td>\n",
       "      <td>8</td>\n",
       "      <td>9</td>\n",
       "      <td>0</td>\n",
       "      <td>24</td>\n",
       "      <td>1</td>\n",
       "      <td>0</td>\n",
       "      <td>B</td>\n",
       "    </tr>\n",
       "    <tr>\n",
       "      <th>12</th>\n",
       "      <td>Maggie</td>\n",
       "      <td>Basketball</td>\n",
       "      <td>8</td>\n",
       "      <td>4</td>\n",
       "      <td>0</td>\n",
       "      <td>18</td>\n",
       "      <td>1</td>\n",
       "      <td>0</td>\n",
       "      <td>A</td>\n",
       "    </tr>\n",
       "    <tr>\n",
       "      <th>13</th>\n",
       "      <td>Nate</td>\n",
       "      <td>Soccer</td>\n",
       "      <td>0</td>\n",
       "      <td>0</td>\n",
       "      <td>7</td>\n",
       "      <td>44</td>\n",
       "      <td>1</td>\n",
       "      <td>0</td>\n",
       "      <td>B</td>\n",
       "    </tr>\n",
       "    <tr>\n",
       "      <th>14</th>\n",
       "      <td>Olivia</td>\n",
       "      <td>Basketball</td>\n",
       "      <td>3</td>\n",
       "      <td>0</td>\n",
       "      <td>8</td>\n",
       "      <td>5</td>\n",
       "      <td>1</td>\n",
       "      <td>0</td>\n",
       "      <td>A</td>\n",
       "    </tr>\n",
       "    <tr>\n",
       "      <th>15</th>\n",
       "      <td>Paul</td>\n",
       "      <td>Soccer</td>\n",
       "      <td>1</td>\n",
       "      <td>4</td>\n",
       "      <td>2</td>\n",
       "      <td>16</td>\n",
       "      <td>1</td>\n",
       "      <td>0</td>\n",
       "      <td>B</td>\n",
       "    </tr>\n",
       "    <tr>\n",
       "      <th>16</th>\n",
       "      <td>Queen</td>\n",
       "      <td>Basketball</td>\n",
       "      <td>5</td>\n",
       "      <td>1</td>\n",
       "      <td>6</td>\n",
       "      <td>9</td>\n",
       "      <td>0</td>\n",
       "      <td>0</td>\n",
       "      <td>A</td>\n",
       "    </tr>\n",
       "    <tr>\n",
       "      <th>17</th>\n",
       "      <td>Ryan</td>\n",
       "      <td>Soccer</td>\n",
       "      <td>0</td>\n",
       "      <td>3</td>\n",
       "      <td>0</td>\n",
       "      <td>20</td>\n",
       "      <td>1</td>\n",
       "      <td>0</td>\n",
       "      <td>B</td>\n",
       "    </tr>\n",
       "    <tr>\n",
       "      <th>18</th>\n",
       "      <td>Samantha</td>\n",
       "      <td>Basketball</td>\n",
       "      <td>2</td>\n",
       "      <td>6</td>\n",
       "      <td>0</td>\n",
       "      <td>23</td>\n",
       "      <td>1</td>\n",
       "      <td>0</td>\n",
       "      <td>A</td>\n",
       "    </tr>\n",
       "    <tr>\n",
       "      <th>19</th>\n",
       "      <td>Tom</td>\n",
       "      <td>Soccer</td>\n",
       "      <td>6</td>\n",
       "      <td>2</td>\n",
       "      <td>2</td>\n",
       "      <td>29</td>\n",
       "      <td>1</td>\n",
       "      <td>0</td>\n",
       "      <td>B</td>\n",
       "    </tr>\n",
       "  </tbody>\n",
       "</table>\n",
       "</div>"
      ],
      "text/plain": [
       "        Name       Sport  Goals  Assists  Fouls  Minutes Played  Yellow  \\\n",
       "0       Alex  Basketball      4        5      8              36       1   \n",
       "1        Bob      Soccer      0        2      1              31       0   \n",
       "2    Charlie  Basketball      2        2      6              34       1   \n",
       "3      David      Soccer      1        7      6               9       0   \n",
       "4        Eve  Basketball      8        2      6              29       0   \n",
       "5      Frank      Soccer      0        6      5              35       1   \n",
       "6     George  Basketball      5        8      8               3       1   \n",
       "7      Harry      Soccer      9        6      8              13       1   \n",
       "8       Ivan  Basketball      7        9      8              30       1   \n",
       "9       Jack      Soccer      8        1      3              58       1   \n",
       "10     Katie  Basketball      7        8      9               6       0   \n",
       "11      Liam      Soccer      8        9      0              24       1   \n",
       "12    Maggie  Basketball      8        4      0              18       1   \n",
       "13      Nate      Soccer      0        0      7              44       1   \n",
       "14    Olivia  Basketball      3        0      8               5       1   \n",
       "15      Paul      Soccer      1        4      2              16       1   \n",
       "16     Queen  Basketball      5        1      6               9       0   \n",
       "17      Ryan      Soccer      0        3      0              20       1   \n",
       "18  Samantha  Basketball      2        6      0              23       1   \n",
       "19       Tom      Soccer      6        2      2              29       1   \n",
       "\n",
       "    Red Cards Team  \n",
       "0           0    A  \n",
       "1           0    B  \n",
       "2           0    A  \n",
       "3           0    B  \n",
       "4           0    A  \n",
       "5           0    B  \n",
       "6           0    A  \n",
       "7           0    B  \n",
       "8           0    A  \n",
       "9           0    B  \n",
       "10          0    A  \n",
       "11          0    B  \n",
       "12          0    A  \n",
       "13          0    B  \n",
       "14          0    A  \n",
       "15          0    B  \n",
       "16          0    A  \n",
       "17          0    B  \n",
       "18          0    A  \n",
       "19          0    B  "
      ]
     },
     "execution_count": 21,
     "metadata": {},
     "output_type": "execute_result"
    }
   ],
   "source": [
    "# Reading data from a CSV file\n",
    "\n",
    "df = pd.read_csv(\"sports_data.csv\")\n",
    "\n",
    "df"
   ]
  },
  {
   "cell_type": "code",
   "execution_count": 31,
   "id": "8db7bb2b-c8e2-4635-8f07-082b2d090a11",
   "metadata": {},
   "outputs": [],
   "source": [
    "# Reading the data from Excel file\n",
    "\n",
    "#df = pd.read_excel(\"Names.xlsx\")\n",
    "#df"
   ]
  },
  {
   "cell_type": "markdown",
   "id": "7cccdbf7-c952-442b-a3f7-73c951f7caae",
   "metadata": {},
   "source": [
    "# 4. Data Cleaning\n",
    "Data comes in many forms. Before we can start analyzing\n",
    "our data, we need to clean it up. Here are some of the most\n",
    "important functions for data cleaning:\n",
    "1. .dropna()\n",
    "2. .fillna()"
   ]
  },
  {
   "cell_type": "markdown",
   "id": "066e1de3-32cc-437b-a751-cfd12c87b34a",
   "metadata": {},
   "source": [
    "# 4.1 .dropna()\n",
    "If we have NaN values in the DataFrame, we can drop them\n",
    "using the df.dropna() method. Let’s create a DataFrame\n",
    "with missing values and use the dropna() method to drop\n",
    "the missing values."
   ]
  },
  {
   "cell_type": "code",
   "execution_count": null,
   "id": "9d8367b2-816a-42e7-891e-6994f7b4340c",
   "metadata": {},
   "outputs": [],
   "source": [
    "names = [\"Alice\", \"Bob\", \"Charlie\", \"David\"]\n",
    "age = [25, None, 18, 47]\n",
    "Salary = [50000, 80000, None, 120000]\n",
    "\n",
    "df = pd.DataFrame({\"Names\": names, \"Age\": age, \"Salary\": Salary})\n",
    "df"
   ]
  },
  {
   "cell_type": "code",
   "execution_count": 33,
   "id": "3a524ea5-a488-46ae-b018-ba4a80d2f342",
   "metadata": {},
   "outputs": [
    {
     "data": {
      "text/html": [
       "<div>\n",
       "<style scoped>\n",
       "    .dataframe tbody tr th:only-of-type {\n",
       "        vertical-align: middle;\n",
       "    }\n",
       "\n",
       "    .dataframe tbody tr th {\n",
       "        vertical-align: top;\n",
       "    }\n",
       "\n",
       "    .dataframe thead th {\n",
       "        text-align: right;\n",
       "    }\n",
       "</style>\n",
       "<table border=\"1\" class=\"dataframe\">\n",
       "  <thead>\n",
       "    <tr style=\"text-align: right;\">\n",
       "      <th></th>\n",
       "      <th>Names</th>\n",
       "      <th>Age</th>\n",
       "      <th>Salary</th>\n",
       "    </tr>\n",
       "  </thead>\n",
       "  <tbody>\n",
       "    <tr>\n",
       "      <th>0</th>\n",
       "      <td>Alice</td>\n",
       "      <td>25.0</td>\n",
       "      <td>50000.0</td>\n",
       "    </tr>\n",
       "    <tr>\n",
       "      <th>3</th>\n",
       "      <td>David</td>\n",
       "      <td>47.0</td>\n",
       "      <td>120000.0</td>\n",
       "    </tr>\n",
       "  </tbody>\n",
       "</table>\n",
       "</div>"
      ],
      "text/plain": [
       "   Names   Age    Salary\n",
       "0  Alice  25.0   50000.0\n",
       "3  David  47.0  120000.0"
      ]
     },
     "execution_count": 33,
     "metadata": {},
     "output_type": "execute_result"
    }
   ],
   "source": [
    "# The NaN values in the DataFrame represent missing values. Now,\n",
    "# to drop all rows with missing values with the dropna() method, here is how we do it:\n",
    "df.dropna()\n"
   ]
  },
  {
   "cell_type": "markdown",
   "id": "949e5c36-188e-4e9e-a822-370af832a4f2",
   "metadata": {},
   "source": [
    "We can also drop all columns with missing values. Columns\n",
    "are on axis 1, so pass 1 to the axis parameter. This will drop\n",
    "all the columns except for the \"Names\" column."
   ]
  },
  {
   "cell_type": "code",
   "execution_count": 34,
   "id": "edf5bd35-044b-45b8-992d-b9add289e839",
   "metadata": {},
   "outputs": [
    {
     "data": {
      "text/html": [
       "<div>\n",
       "<style scoped>\n",
       "    .dataframe tbody tr th:only-of-type {\n",
       "        vertical-align: middle;\n",
       "    }\n",
       "\n",
       "    .dataframe tbody tr th {\n",
       "        vertical-align: top;\n",
       "    }\n",
       "\n",
       "    .dataframe thead th {\n",
       "        text-align: right;\n",
       "    }\n",
       "</style>\n",
       "<table border=\"1\" class=\"dataframe\">\n",
       "  <thead>\n",
       "    <tr style=\"text-align: right;\">\n",
       "      <th></th>\n",
       "      <th>Names</th>\n",
       "    </tr>\n",
       "  </thead>\n",
       "  <tbody>\n",
       "    <tr>\n",
       "      <th>0</th>\n",
       "      <td>Alice</td>\n",
       "    </tr>\n",
       "    <tr>\n",
       "      <th>1</th>\n",
       "      <td>Bob</td>\n",
       "    </tr>\n",
       "    <tr>\n",
       "      <th>2</th>\n",
       "      <td>Charlie</td>\n",
       "    </tr>\n",
       "    <tr>\n",
       "      <th>3</th>\n",
       "      <td>David</td>\n",
       "    </tr>\n",
       "  </tbody>\n",
       "</table>\n",
       "</div>"
      ],
      "text/plain": [
       "     Names\n",
       "0    Alice\n",
       "1      Bob\n",
       "2  Charlie\n",
       "3    David"
      ]
     },
     "execution_count": 34,
     "metadata": {},
     "output_type": "execute_result"
    }
   ],
   "source": [
    "df.dropna(axis=1)"
   ]
  },
  {
   "cell_type": "markdown",
   "id": "82dbb040-1f70-431a-92e2-cb579c8687a7",
   "metadata": {},
   "source": [
    "# 4.2 .fillna()\n",
    "This method is used to fill missing values in the DataFrame\n",
    "with a specified value or method."
   ]
  },
  {
   "cell_type": "markdown",
   "id": "6382747d-74ac-483b-9f7f-76a77d8a70a3",
   "metadata": {},
   "source": [
    "# 5. Data Manipulation in Pandas\n",
    "Once data is loaded into a pandas DataFrame, there are\n",
    "several methods for manipulating and transforming the\n",
    "data.\n",
    "\n",
    "1. head()\n",
    "2. tail()\n",
    "3. info()\n",
    "4. describe()\n",
    "5. groupby()\n",
    "6. merge()\n",
    "   "
   ]
  },
  {
   "cell_type": "markdown",
   "id": "6dd627bb-a5de-4448-91f8-a14eff5a925b",
   "metadata": {},
   "source": [
    "## 5.1 head()\n",
    "This method returns the first n rows of a DataFrame. By\n",
    "default, it returns the first five rows."
   ]
  },
  {
   "cell_type": "code",
   "execution_count": 36,
   "id": "660148fa-b392-4abe-b0a2-125642985fef",
   "metadata": {},
   "outputs": [
    {
     "data": {
      "text/html": [
       "<div>\n",
       "<style scoped>\n",
       "    .dataframe tbody tr th:only-of-type {\n",
       "        vertical-align: middle;\n",
       "    }\n",
       "\n",
       "    .dataframe tbody tr th {\n",
       "        vertical-align: top;\n",
       "    }\n",
       "\n",
       "    .dataframe thead th {\n",
       "        text-align: right;\n",
       "    }\n",
       "</style>\n",
       "<table border=\"1\" class=\"dataframe\">\n",
       "  <thead>\n",
       "    <tr style=\"text-align: right;\">\n",
       "      <th></th>\n",
       "      <th>Names</th>\n",
       "      <th>Age</th>\n",
       "    </tr>\n",
       "  </thead>\n",
       "  <tbody>\n",
       "    <tr>\n",
       "      <th>0</th>\n",
       "      <td>Alice</td>\n",
       "      <td>25</td>\n",
       "    </tr>\n",
       "    <tr>\n",
       "      <th>1</th>\n",
       "      <td>Bob</td>\n",
       "      <td>29</td>\n",
       "    </tr>\n",
       "    <tr>\n",
       "      <th>2</th>\n",
       "      <td>Charlie</td>\n",
       "      <td>33</td>\n",
       "    </tr>\n",
       "    <tr>\n",
       "      <th>3</th>\n",
       "      <td>David</td>\n",
       "      <td>21</td>\n",
       "    </tr>\n",
       "    <tr>\n",
       "      <th>4</th>\n",
       "      <td>John</td>\n",
       "      <td>57</td>\n",
       "    </tr>\n",
       "  </tbody>\n",
       "</table>\n",
       "</div>"
      ],
      "text/plain": [
       "     Names  Age\n",
       "0    Alice   25\n",
       "1      Bob   29\n",
       "2  Charlie   33\n",
       "3    David   21\n",
       "4     John   57"
      ]
     },
     "execution_count": 36,
     "metadata": {},
     "output_type": "execute_result"
    }
   ],
   "source": [
    "names = ['Alice', 'Bob', 'Charlie', 'David', 'John', 'Mpho', 'Steve', 'ben']\n",
    "age = [25, 29, 33, 21, 57, 66, 50, 30]\n",
    "\n",
    "# Creating a DataFrame\n",
    "df = pd.DataFrame({\"Names\": names, \"Age\": age})\n",
    "\n",
    "# View the first 5 rows\n",
    "\n",
    "df.head()"
   ]
  },
  {
   "cell_type": "code",
   "execution_count": 38,
   "id": "6d1c29f5-d15f-4792-86df-055cb848d772",
   "metadata": {},
   "outputs": [
    {
     "data": {
      "text/html": [
       "<div>\n",
       "<style scoped>\n",
       "    .dataframe tbody tr th:only-of-type {\n",
       "        vertical-align: middle;\n",
       "    }\n",
       "\n",
       "    .dataframe tbody tr th {\n",
       "        vertical-align: top;\n",
       "    }\n",
       "\n",
       "    .dataframe thead th {\n",
       "        text-align: right;\n",
       "    }\n",
       "</style>\n",
       "<table border=\"1\" class=\"dataframe\">\n",
       "  <thead>\n",
       "    <tr style=\"text-align: right;\">\n",
       "      <th></th>\n",
       "      <th>Names</th>\n",
       "      <th>Age</th>\n",
       "    </tr>\n",
       "  </thead>\n",
       "  <tbody>\n",
       "    <tr>\n",
       "      <th>0</th>\n",
       "      <td>Alice</td>\n",
       "      <td>25</td>\n",
       "    </tr>\n",
       "    <tr>\n",
       "      <th>1</th>\n",
       "      <td>Bob</td>\n",
       "      <td>29</td>\n",
       "    </tr>\n",
       "  </tbody>\n",
       "</table>\n",
       "</div>"
      ],
      "text/plain": [
       "   Names  Age\n",
       "0  Alice   25\n",
       "1    Bob   29"
      ]
     },
     "execution_count": 38,
     "metadata": {},
     "output_type": "execute_result"
    }
   ],
   "source": [
    "# if you want to see only 2 Rows\n",
    "\n",
    "df = pd.DataFrame({\"Names\": names, \"Age\": age})\n",
    "\n",
    "df.head(2)"
   ]
  },
  {
   "cell_type": "markdown",
   "id": "e6bae390-24c2-463d-8dc7-20db0fc6b461",
   "metadata": {},
   "source": [
    "## 5.2 tail()\n",
    "The tail() method returns the last n rows of a DataFrame.\n",
    "By default, it returns the last 5 rows."
   ]
  },
  {
   "cell_type": "code",
   "execution_count": 39,
   "id": "2f5bed92-8968-4e46-9edf-aa77fd1e385d",
   "metadata": {},
   "outputs": [
    {
     "data": {
      "text/html": [
       "<div>\n",
       "<style scoped>\n",
       "    .dataframe tbody tr th:only-of-type {\n",
       "        vertical-align: middle;\n",
       "    }\n",
       "\n",
       "    .dataframe tbody tr th {\n",
       "        vertical-align: top;\n",
       "    }\n",
       "\n",
       "    .dataframe thead th {\n",
       "        text-align: right;\n",
       "    }\n",
       "</style>\n",
       "<table border=\"1\" class=\"dataframe\">\n",
       "  <thead>\n",
       "    <tr style=\"text-align: right;\">\n",
       "      <th></th>\n",
       "      <th>Names</th>\n",
       "      <th>Age</th>\n",
       "    </tr>\n",
       "  </thead>\n",
       "  <tbody>\n",
       "    <tr>\n",
       "      <th>3</th>\n",
       "      <td>David</td>\n",
       "      <td>21</td>\n",
       "    </tr>\n",
       "    <tr>\n",
       "      <th>4</th>\n",
       "      <td>John</td>\n",
       "      <td>57</td>\n",
       "    </tr>\n",
       "    <tr>\n",
       "      <th>5</th>\n",
       "      <td>Mpho</td>\n",
       "      <td>66</td>\n",
       "    </tr>\n",
       "    <tr>\n",
       "      <th>6</th>\n",
       "      <td>Steve</td>\n",
       "      <td>50</td>\n",
       "    </tr>\n",
       "    <tr>\n",
       "      <th>7</th>\n",
       "      <td>ben</td>\n",
       "      <td>30</td>\n",
       "    </tr>\n",
       "  </tbody>\n",
       "</table>\n",
       "</div>"
      ],
      "text/plain": [
       "   Names  Age\n",
       "3  David   21\n",
       "4   John   57\n",
       "5   Mpho   66\n",
       "6  Steve   50\n",
       "7    ben   30"
      ]
     },
     "execution_count": 39,
     "metadata": {},
     "output_type": "execute_result"
    }
   ],
   "source": [
    "df.tail()\n"
   ]
  },
  {
   "cell_type": "code",
   "execution_count": 40,
   "id": "4ed47334-d816-4afd-8b04-6af395a562bc",
   "metadata": {},
   "outputs": [
    {
     "data": {
      "text/html": [
       "<div>\n",
       "<style scoped>\n",
       "    .dataframe tbody tr th:only-of-type {\n",
       "        vertical-align: middle;\n",
       "    }\n",
       "\n",
       "    .dataframe tbody tr th {\n",
       "        vertical-align: top;\n",
       "    }\n",
       "\n",
       "    .dataframe thead th {\n",
       "        text-align: right;\n",
       "    }\n",
       "</style>\n",
       "<table border=\"1\" class=\"dataframe\">\n",
       "  <thead>\n",
       "    <tr style=\"text-align: right;\">\n",
       "      <th></th>\n",
       "      <th>Names</th>\n",
       "      <th>Age</th>\n",
       "    </tr>\n",
       "  </thead>\n",
       "  <tbody>\n",
       "    <tr>\n",
       "      <th>5</th>\n",
       "      <td>Mpho</td>\n",
       "      <td>66</td>\n",
       "    </tr>\n",
       "    <tr>\n",
       "      <th>6</th>\n",
       "      <td>Steve</td>\n",
       "      <td>50</td>\n",
       "    </tr>\n",
       "    <tr>\n",
       "      <th>7</th>\n",
       "      <td>ben</td>\n",
       "      <td>30</td>\n",
       "    </tr>\n",
       "  </tbody>\n",
       "</table>\n",
       "</div>"
      ],
      "text/plain": [
       "   Names  Age\n",
       "5   Mpho   66\n",
       "6  Steve   50\n",
       "7    ben   30"
      ]
     },
     "execution_count": 40,
     "metadata": {},
     "output_type": "execute_result"
    }
   ],
   "source": [
    "# show only last 3 Records\n",
    "\n",
    "df.tail(3)"
   ]
  },
  {
   "cell_type": "markdown",
   "id": "196bd495-88b1-412c-84c1-936a94b73ba2",
   "metadata": {},
   "source": [
    "## 5.3 info()\n",
    "The info() method provides a summary of the DataFrame,\n",
    "including the data types, number of non-null values, and\n",
    "memory usage. You can see below that our DataFrame is\n",
    "using 256 bytes of memory."
   ]
  },
  {
   "cell_type": "code",
   "execution_count": 41,
   "id": "a81e949f-234b-43af-82a7-3ba0f4e588c3",
   "metadata": {},
   "outputs": [
    {
     "name": "stdout",
     "output_type": "stream",
     "text": [
      "<class 'pandas.core.frame.DataFrame'>\n",
      "RangeIndex: 8 entries, 0 to 7\n",
      "Data columns (total 2 columns):\n",
      " #   Column  Non-Null Count  Dtype \n",
      "---  ------  --------------  ----- \n",
      " 0   Names   8 non-null      object\n",
      " 1   Age     8 non-null      int64 \n",
      "dtypes: int64(1), object(1)\n",
      "memory usage: 260.0+ bytes\n"
     ]
    }
   ],
   "source": [
    "df.info()"
   ]
  },
  {
   "cell_type": "markdown",
   "id": "ffb71589-f1ad-4dfc-9c38-7198404718ae",
   "metadata": {},
   "source": [
    "## 5.4 describe()\n",
    "If we want a summary of the statistics for each column in\n",
    "the DataFrame, such as count, mean, standard deviation,\n",
    "minimum, and maximum, we can use the describe()\n",
    "method. When we use the describe() method on the\n",
    "DataFrame, we can see the statistical summary of our\n",
    "DataFrame. For example, we can see that the average age\n",
    "of the people is 38."
   ]
  },
  {
   "cell_type": "code",
   "execution_count": 42,
   "id": "2e16efc2-6859-4e2e-b692-586e76b0ed5e",
   "metadata": {},
   "outputs": [
    {
     "data": {
      "text/html": [
       "<div>\n",
       "<style scoped>\n",
       "    .dataframe tbody tr th:only-of-type {\n",
       "        vertical-align: middle;\n",
       "    }\n",
       "\n",
       "    .dataframe tbody tr th {\n",
       "        vertical-align: top;\n",
       "    }\n",
       "\n",
       "    .dataframe thead th {\n",
       "        text-align: right;\n",
       "    }\n",
       "</style>\n",
       "<table border=\"1\" class=\"dataframe\">\n",
       "  <thead>\n",
       "    <tr style=\"text-align: right;\">\n",
       "      <th></th>\n",
       "      <th>Age</th>\n",
       "    </tr>\n",
       "  </thead>\n",
       "  <tbody>\n",
       "    <tr>\n",
       "      <th>count</th>\n",
       "      <td>8.000000</td>\n",
       "    </tr>\n",
       "    <tr>\n",
       "      <th>mean</th>\n",
       "      <td>38.875000</td>\n",
       "    </tr>\n",
       "    <tr>\n",
       "      <th>std</th>\n",
       "      <td>16.522171</td>\n",
       "    </tr>\n",
       "    <tr>\n",
       "      <th>min</th>\n",
       "      <td>21.000000</td>\n",
       "    </tr>\n",
       "    <tr>\n",
       "      <th>25%</th>\n",
       "      <td>28.000000</td>\n",
       "    </tr>\n",
       "    <tr>\n",
       "      <th>50%</th>\n",
       "      <td>31.500000</td>\n",
       "    </tr>\n",
       "    <tr>\n",
       "      <th>75%</th>\n",
       "      <td>51.750000</td>\n",
       "    </tr>\n",
       "    <tr>\n",
       "      <th>max</th>\n",
       "      <td>66.000000</td>\n",
       "    </tr>\n",
       "  </tbody>\n",
       "</table>\n",
       "</div>"
      ],
      "text/plain": [
       "             Age\n",
       "count   8.000000\n",
       "mean   38.875000\n",
       "std    16.522171\n",
       "min    21.000000\n",
       "25%    28.000000\n",
       "50%    31.500000\n",
       "75%    51.750000\n",
       "max    66.000000"
      ]
     },
     "execution_count": 42,
     "metadata": {},
     "output_type": "execute_result"
    }
   ],
   "source": [
    "df.describe()"
   ]
  },
  {
   "cell_type": "code",
   "execution_count": 43,
   "id": "b1b05ff0-23e4-4f0b-a972-1f3adf9902fa",
   "metadata": {},
   "outputs": [],
   "source": [
    "## 5.5 groupby()\n"
   ]
  },
  {
   "cell_type": "code",
   "execution_count": null,
   "id": "77e95eec-d462-4ac6-b21a-adbbf668457e",
   "metadata": {},
   "outputs": [],
   "source": []
  }
 ],
 "metadata": {
  "kernelspec": {
   "display_name": "Python 3 (ipykernel)",
   "language": "python",
   "name": "python3"
  },
  "language_info": {
   "codemirror_mode": {
    "name": "ipython",
    "version": 3
   },
   "file_extension": ".py",
   "mimetype": "text/x-python",
   "name": "python",
   "nbconvert_exporter": "python",
   "pygments_lexer": "ipython3",
   "version": "3.12.0"
  }
 },
 "nbformat": 4,
 "nbformat_minor": 5
}
