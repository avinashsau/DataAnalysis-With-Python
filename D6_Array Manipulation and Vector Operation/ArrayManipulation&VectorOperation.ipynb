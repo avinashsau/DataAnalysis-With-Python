{
 "cells": [
  {
   "cell_type": "markdown",
   "id": "dbb1973f-676b-44e7-8c1e-062f4455c9d6",
   "metadata": {},
   "source": [
    "## Day 6: Array Manipulation and Vector\n",
    "Operations\n",
    "In this challenge, your task is to create a NumPy array from\n",
    "a list of strings. This particular challenge aims to assess\n",
    "your proficiency in generating arrays and manipulating\n",
    "array data types as a means of enhancing data processing\n",
    "flexibility.\n",
    "list_str = [\"23\", \"12\", \"90\", \"28\", \"30\"]\n",
    "1. Create a NumPy array with the list above. Calculate the\n",
    "standard deviation of the array.\n",
    "2. Write a code to change the data type of the array you\n",
    "created in question one (1) to a floating data type. Save this\n",
    "as a new variable.\n",
    "3. Write a code to return the sum of values [90.0, 28.0, 30.0]\n",
    "from the array you just created in question (3).\n",
    "4. Create a 2-dimensional array of random integers from 0 to\n",
    "100 with the shape (5, 5). Use the array to find the\n",
    "minimum and maximum values, as well as the mean and\n",
    "standard deviation. Ensure that the results are\n",
    "reproducible.\n",
    "5. Below are two arrays:\n",
    "first_names = [\"John\", \" Kenny\"]\n",
    "last_names = [\"Smith\", \" Sakula\"]\n",
    "Using NumPy’s char.join() function, create two arrays by\n",
    "joining the first name with the last name. Your first array\n",
    "should be: array(['John', 'Smith'], dtype='U6'). Your second\n",
    "array should be: array(['Kenny', 'Sakula'], dtype='U6')."
   ]
  },
  {
   "cell_type": "markdown",
   "id": "56c62b0d-7ba4-4bc8-9693-0d9a9ac9a136",
   "metadata": {},
   "source": [
    "## Task 1\n",
    "Create a NumPy array with the list above. Calculate the standard deviation of the array."
   ]
  },
  {
   "cell_type": "code",
   "execution_count": 5,
   "id": "2a130346-b10b-4e59-be42-5ee44095042e",
   "metadata": {},
   "outputs": [
    {
     "data": {
      "text/plain": [
       "27.419700946582186"
      ]
     },
     "execution_count": 5,
     "metadata": {},
     "output_type": "execute_result"
    }
   ],
   "source": [
    "import numpy as np\n",
    "\n",
    "list_str = [\"23\", \"12\", \"90\", \"28\", \"30\"]\n",
    "\n",
    "# Creatin Array from the list\n",
    "arr = np.array(list_str)\n",
    "\n",
    "# Take note of the data type of the output. The \"u2\" data type\n",
    "# means that each string in the array is 2 characters long.\n",
    "# To calculate the standard deviation (std), we can use the\n",
    "# np.std() function. However, if we try to calculate the\n",
    "# standard deviation on the array in question 1, we are going\n",
    "# to get an error because the data type \"U2\" is that of a string,\n",
    "# and standard deviation can only be calculated on numerical\n",
    "# data types. To calculate the standard deviation, we will\n",
    "# have to convert the array data type to an integer data type\n",
    "# using the astype() function. Here is the code below: \n",
    "\n",
    "\n",
    "# Convert the array dtype to Int64 abd calculate Standard deviation\n",
    "st_dev = arr.astype(np.int64).std()\n",
    "st_dev"
   ]
  },
  {
   "cell_type": "markdown",
   "id": "d261ff14-5cc3-46f9-99f4-27890b5102ba",
   "metadata": {},
   "source": [
    "## Task 2\n",
    "Write a code to change the data type of the array you created in question one (1) to a floating data type. Save this as a new variable."
   ]
  },
  {
   "cell_type": "code",
   "execution_count": 8,
   "id": "4be52c02-3f9b-456c-a54b-af97fab540ca",
   "metadata": {},
   "outputs": [
    {
     "data": {
      "text/plain": [
       "array([23., 12., 90., 28., 30.])"
      ]
     },
     "execution_count": 8,
     "metadata": {},
     "output_type": "execute_result"
    }
   ],
   "source": [
    "# COnverting Array to FLoat Data type\n",
    "\n",
    "arr1 = arr.astype(float)\n",
    "arr1"
   ]
  },
  {
   "cell_type": "markdown",
   "id": "2f790767-72fe-4d4a-8dee-59e1c84483ec",
   "metadata": {},
   "source": [
    "## Task 3\n",
    "Write a code to return the sum of values [90.0, 28.0, 30.0] from the array you just created in question (3)."
   ]
  },
  {
   "cell_type": "code",
   "execution_count": 13,
   "id": "2176a77a-7102-46cd-adc8-c97e039acf73",
   "metadata": {},
   "outputs": [
    {
     "name": "stdout",
     "output_type": "stream",
     "text": [
      "Method 1 Sum:  148.0\n",
      "Method 2 Sum:  148.0\n",
      "Method 3 Sum:  148.0\n"
     ]
    }
   ],
   "source": [
    "sum1 = sum(arr1[2:])\n",
    "print(\"Method 1 Sum: \", sum1)\n",
    "\n",
    "# OR\n",
    "\n",
    "result = arr1[[2,3,4]].sum()\n",
    "print(\"Method 2 Sum: \", result)\n",
    "\n",
    "# OR\n",
    "\n",
    "result1 = arr1[(arr1 >=28) & (arr1 <=90)].sum()\n",
    "print(\"Method 3 Sum: \", result1)"
   ]
  },
  {
   "cell_type": "markdown",
   "id": "964b7980-94b9-4d10-8784-e139ff776611",
   "metadata": {},
   "source": [
    "## Task 4\n",
    "Create a 2-dimensional array of random integers from 0 to 100 with the shape (5, 5). Use the array to find the minimum and maximum values, as well as the mean and standard deviation. Ensure that the results are reproducible."
   ]
  },
  {
   "cell_type": "code",
   "execution_count": 16,
   "id": "89f23b61-6fdc-46bd-8fb4-d3f7c3ad1060",
   "metadata": {},
   "outputs": [
    {
     "name": "stdout",
     "output_type": "stream",
     "text": [
      "Minimum Value:  8\n",
      "Maximum Value:  98\n",
      "Mean:  54.12\n",
      "Standard Deviation:  28.117354071818355\n"
     ]
    }
   ],
   "source": [
    "rng = np.random.default_rng(seed = 42)\n",
    "arr2 = rng.integers(low=0, high=101, size=(5,5))\n",
    "\n",
    "min_val = arr2.min()\n",
    "max_val = arr2.max()\n",
    "mean = arr2.mean()\n",
    "std = arr2.std()\n",
    "\n",
    "print(\"Minimum Value: \", min_val)\n",
    "print(\"Maximum Value: \", max_val)\n",
    "print(\"Mean: \", mean)\n",
    "print(\"Standard Deviation: \", std)"
   ]
  },
  {
   "cell_type": "markdown",
   "id": "d3336585-bd5d-4fb5-a72a-e60223eee980",
   "metadata": {},
   "source": [
    "## Task 5\n",
    "Below are two arrays: first_names = [\"John\", \" Kenny\"] last_names = [\"Smith\", \" Sakula\"] Using NumPy’s char.join() function, create two arrays by joining the first name with the last name. Your first array should be: array(['John', 'Smith'], dtype='U6'). Your second array should be: array(['Kenny', 'Sakula'], dtype='U6')."
   ]
  },
  {
   "cell_type": "code",
   "execution_count": 22,
   "id": "04a656dd-df92-42db-b4d3-d32092a767c4",
   "metadata": {},
   "outputs": [
    {
     "data": {
      "text/plain": [
       "(array(['John', 'Smith'], dtype='<U7'),\n",
       " array([' Kenny', ' Sakula'], dtype='<U7'))"
      ]
     },
     "execution_count": 22,
     "metadata": {},
     "output_type": "execute_result"
    }
   ],
   "source": [
    "first_names = [\"John\", \" Kenny\"]\n",
    "last_names = [\"Smith\", \" Sakula\"]\n",
    "\n",
    "# Using Join Function to create an Array\n",
    "arr3 = np.char.join(\"\", [first_names, last_names])\n",
    "\n",
    "# Using Slicing to return first and second arrays\n",
    "arr4 = arr3[:,0]\n",
    "arr5 = arr3[:,1]\n",
    "\n",
    "arr4, arr5"
   ]
  },
  {
   "cell_type": "code",
   "execution_count": null,
   "id": "0da79c7d-ab20-4516-8fd7-47081e946658",
   "metadata": {},
   "outputs": [],
   "source": []
  }
 ],
 "metadata": {
  "kernelspec": {
   "display_name": "Python 3 (ipykernel)",
   "language": "python",
   "name": "python3"
  },
  "language_info": {
   "codemirror_mode": {
    "name": "ipython",
    "version": 3
   },
   "file_extension": ".py",
   "mimetype": "text/x-python",
   "name": "python",
   "nbconvert_exporter": "python",
   "pygments_lexer": "ipython3",
   "version": "3.12.0"
  }
 },
 "nbformat": 4,
 "nbformat_minor": 5
}
