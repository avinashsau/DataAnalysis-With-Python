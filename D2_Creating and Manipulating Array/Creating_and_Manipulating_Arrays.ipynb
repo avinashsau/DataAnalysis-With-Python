{
 "cells": [
  {
   "cell_type": "markdown",
   "id": "39d582d0-f4dc-48f5-b7f6-6a3511a4cccc",
   "metadata": {},
   "source": [
    "# Day 2: Creating and Manipulating Arrays\n",
    "\n",
    "1. Write code to import NumPy into your script. Check the\n",
    "version of NumPy installed.\n",
    "2. Here is a list below:\n",
    "list1 = [2, 3, 4, 6]\n",
    "Create a one-dimensional array from the list above. Write\n",
    "another line of code to check the shape and size of your\n",
    "array.\n",
    "Write a function that takes this array and returns a new\n",
    "array with all the values in the original array reversed.\n",
    "3. list1 = [2, 3, 4, 6]\n",
    "list2 = [8, 10, 12, 14]\n",
    "Create an array from the two lists above. Then write code to\n",
    "check the shape, dimensions, and data type of the array.\n",
    "4. list1 = [2, 3, 4, 6]\n",
    "list2 = [8, 10.1, 12, 14]\n",
    "list3 = [16, 18, 20, 22.1]\n",
    "Create an array from the three (3) lists above. Take note\n",
    "that some of the lists contain floats. Create an array that\n",
    "will have an int64 data type.\n",
    "5. Is it possible to create an array of both floats and integers?"
   ]
  },
  {
   "cell_type": "markdown",
   "id": "0d6b375a-9bfb-4353-97ee-17a466ed48e6",
   "metadata": {},
   "source": [
    "## Importing Numpy and checking its verison"
   ]
  },
  {
   "cell_type": "code",
   "execution_count": 1,
   "id": "912776a5-9f43-4dda-88a4-847f5993242d",
   "metadata": {},
   "outputs": [
    {
     "name": "stdout",
     "output_type": "stream",
     "text": [
      "1.26.4\n"
     ]
    },
    {
     "data": {
      "text/plain": [
       "'1.26.4'"
      ]
     },
     "execution_count": 1,
     "metadata": {},
     "output_type": "execute_result"
    }
   ],
   "source": [
    "import numpy as np\n",
    "np.version.version\n",
    "\n",
    "# OR\n",
    "\n",
    "print(np.__version__)\n",
    "\n",
    "# OR\n",
    "\n",
    "np.__version__\n",
    "# Listing packages with version\n",
    "#!pip list\n",
    "\n"
   ]
  },
  {
   "cell_type": "markdown",
   "id": "459d462d-e5aa-483a-ac50-233882d39ecd",
   "metadata": {},
   "source": [
    "## Creating an Array from the given list"
   ]
  },
  {
   "cell_type": "code",
   "execution_count": 2,
   "id": "e0d6aa4f-e9dc-4a79-9a8d-3cc951e26e49",
   "metadata": {},
   "outputs": [
    {
     "data": {
      "text/plain": [
       "array([2, 3, 4, 6])"
      ]
     },
     "execution_count": 2,
     "metadata": {},
     "output_type": "execute_result"
    }
   ],
   "source": [
    "# Creating Array from the List\n",
    "\n",
    "list1 = [2,3,4,6]\n",
    "arr1 = np.array(list1)\n",
    "arr1"
   ]
  },
  {
   "cell_type": "markdown",
   "id": "8c10e232-b2d1-43d5-8ffd-a079b8173e3a",
   "metadata": {},
   "source": [
    "## Array Size"
   ]
  },
  {
   "cell_type": "code",
   "execution_count": 3,
   "id": "d06acb37-bb59-4419-b2bc-3896112ab0be",
   "metadata": {},
   "outputs": [
    {
     "data": {
      "text/plain": [
       "4"
      ]
     },
     "execution_count": 3,
     "metadata": {},
     "output_type": "execute_result"
    }
   ],
   "source": [
    "#  Size of the Array\n",
    "arr1.size"
   ]
  },
  {
   "cell_type": "code",
   "execution_count": 4,
   "id": "6506169d-51ac-42c5-b11a-d72b78f8bf37",
   "metadata": {},
   "outputs": [
    {
     "data": {
      "text/plain": [
       "4"
      ]
     },
     "execution_count": 4,
     "metadata": {},
     "output_type": "execute_result"
    }
   ],
   "source": [
    "# OR\n",
    "\n",
    "arr_size = np.size(arr1)\n",
    "arr_size"
   ]
  },
  {
   "cell_type": "markdown",
   "id": "9cf48f2a-3945-41dd-a447-95b22b98b941",
   "metadata": {},
   "source": [
    "## Array Shape "
   ]
  },
  {
   "cell_type": "code",
   "execution_count": 5,
   "id": "9e742a02-eb8c-4d27-80ca-1bb58cc3da5c",
   "metadata": {},
   "outputs": [
    {
     "data": {
      "text/plain": [
       "(4,)"
      ]
     },
     "execution_count": 5,
     "metadata": {},
     "output_type": "execute_result"
    }
   ],
   "source": [
    "# Shape  of the Array\n",
    "arr1.shape"
   ]
  },
  {
   "cell_type": "markdown",
   "id": "f99a1962-df28-4580-883b-ffebfa3033d1",
   "metadata": {},
   "source": [
    "## Reversing the Array\n",
    "there are 2 ways to reverse the array"
   ]
  },
  {
   "cell_type": "code",
   "execution_count": 6,
   "id": "06b59a68-f788-4b01-a366-5481fdc84e25",
   "metadata": {},
   "outputs": [
    {
     "data": {
      "text/plain": [
       "array([6, 4, 3, 2])"
      ]
     },
     "execution_count": 6,
     "metadata": {},
     "output_type": "execute_result"
    }
   ],
   "source": [
    "# Option 1 - you define a function and pass the array to it to reverse it.\n",
    "\n",
    "def reverse_array(array):\n",
    "    return array[::-1]\n",
    "\n",
    "\n",
    "arr2 = reverse_array(arr1)\n",
    "arr2"
   ]
  },
  {
   "cell_type": "code",
   "execution_count": 7,
   "id": "ff6a027e-6618-44e2-aac0-b2b0b7f5e044",
   "metadata": {},
   "outputs": [
    {
     "data": {
      "text/plain": [
       "array([6, 4, 3, 2])"
      ]
     },
     "execution_count": 7,
     "metadata": {},
     "output_type": "execute_result"
    }
   ],
   "source": [
    "# Option 2 - np.flip()\n",
    "\n",
    "arr_flip = np.flip(arr1)\n",
    "arr_flip"
   ]
  },
  {
   "cell_type": "markdown",
   "id": "2cfd1dab-3f29-4243-be53-4db8870c7462",
   "metadata": {},
   "source": [
    "##  Create an array from the two lists. Then write code to check the shape, dimensions, and data type of the array.\n"
   ]
  },
  {
   "cell_type": "code",
   "execution_count": 8,
   "id": "8435b869-55e8-4a80-8670-1d52237b6453",
   "metadata": {},
   "outputs": [
    {
     "data": {
      "text/plain": [
       "array([[ 2,  3,  4,  6],\n",
       "       [ 8, 10, 12, 14]])"
      ]
     },
     "execution_count": 8,
     "metadata": {},
     "output_type": "execute_result"
    }
   ],
   "source": [
    "# Create the array from the two list\n",
    "\n",
    "list1 = [2, 3, 4, 6]\n",
    "list2 = [8, 10, 12, 14]\n",
    "arr1 = np.array([list1, list2])\n",
    "arr1"
   ]
  },
  {
   "cell_type": "markdown",
   "id": "aa69607a-d8ca-48d0-920d-7093904a973a",
   "metadata": {},
   "source": [
    "### Array Shape"
   ]
  },
  {
   "cell_type": "code",
   "execution_count": 9,
   "id": "f5517915-0f7e-43d8-8728-801d940e743b",
   "metadata": {},
   "outputs": [
    {
     "data": {
      "text/plain": [
       "(2, 4)"
      ]
     },
     "execution_count": 9,
     "metadata": {},
     "output_type": "execute_result"
    }
   ],
   "source": [
    "# Array Shape\n",
    "\n",
    "arr1.shape"
   ]
  },
  {
   "cell_type": "markdown",
   "id": "37b5656a-ccd8-40af-993f-a42d2ab51a83",
   "metadata": {},
   "source": [
    "### Array Size"
   ]
  },
  {
   "cell_type": "code",
   "execution_count": 10,
   "id": "0b315d01-bfd7-40bb-a9f9-153df4ecd643",
   "metadata": {},
   "outputs": [
    {
     "data": {
      "text/plain": [
       "8"
      ]
     },
     "execution_count": 10,
     "metadata": {},
     "output_type": "execute_result"
    }
   ],
   "source": [
    "# Array Size\n",
    "\n",
    "arr1.size"
   ]
  },
  {
   "cell_type": "markdown",
   "id": "24c2ac7a-2af8-4adb-850a-9eb48608567f",
   "metadata": {},
   "source": [
    "### Array Dimension"
   ]
  },
  {
   "cell_type": "code",
   "execution_count": 11,
   "id": "723041ef-439e-4333-bc56-1823d8403701",
   "metadata": {},
   "outputs": [
    {
     "data": {
      "text/plain": [
       "2"
      ]
     },
     "execution_count": 11,
     "metadata": {},
     "output_type": "execute_result"
    }
   ],
   "source": [
    "# Array Dimension\n",
    "\n",
    "arr1.ndim"
   ]
  },
  {
   "cell_type": "markdown",
   "id": "25f2122c-0c9a-4d25-a3b6-061fc00ff6fe",
   "metadata": {},
   "source": [
    "### Array Data type"
   ]
  },
  {
   "cell_type": "code",
   "execution_count": 12,
   "id": "fa6810bd-9cbf-4a8a-97cd-0d0a4f8e74b0",
   "metadata": {},
   "outputs": [
    {
     "data": {
      "text/plain": [
       "dtype('int32')"
      ]
     },
     "execution_count": 12,
     "metadata": {},
     "output_type": "execute_result"
    }
   ],
   "source": [
    "# Data type of the Array\n",
    "\n",
    "arr1.dtype"
   ]
  },
  {
   "cell_type": "markdown",
   "id": "4e27581d-3ce2-4676-91c4-f1d91ff949ee",
   "metadata": {},
   "source": [
    "You can see from the outputs that the shape of the array\n",
    "will be (2, 4), which means it has 2 rows and 4 columns.\n",
    "The dimensions of the array will be 2, indicating that it's a\n",
    "2-dimensional array (arrays inside an array). The dtype\n",
    "(data type) is int32."
   ]
  },
  {
   "cell_type": "markdown",
   "id": "e34ef402-85db-4024-82ec-7bb36e0b0d60",
   "metadata": {},
   "source": [
    "## Create an array from the three (3) lists above. \n",
    "Take note that some of the lists contain floats. Create an array that will have an int64 data type."
   ]
  },
  {
   "cell_type": "markdown",
   "id": "90e0f700-52eb-4f85-adf4-6647ab0f1bd6",
   "metadata": {},
   "source": [
    "Since some of our lists have some floating-point numbers,\n",
    "when we create an array, the default data type will be\n",
    "float64. That is why we need to convert it to an int64 data\n",
    "type. To change the dtype, we can create an array using the\n",
    "np.array() function and then use the astype() method to\n",
    "convert the array to the desired data type of int64."
   ]
  },
  {
   "cell_type": "markdown",
   "id": "cdf664dd-26da-4b72-b13a-f62ebe8118d7",
   "metadata": {},
   "source": [
    "### Creating an Array from the lists"
   ]
  },
  {
   "cell_type": "code",
   "execution_count": 16,
   "id": "365a2696-f6dd-4525-9a84-bafbd61793c2",
   "metadata": {},
   "outputs": [
    {
     "data": {
      "text/plain": [
       "array([[ 2. ,  3. ,  4. ,  6. ],\n",
       "       [ 8. , 10.1, 12. , 14. ],\n",
       "       [16. , 18. , 20. , 22.1]])"
      ]
     },
     "execution_count": 16,
     "metadata": {},
     "output_type": "execute_result"
    }
   ],
   "source": [
    "# Creating an Array from the lists\n",
    "\n",
    "list1 = [2, 3, 4, 6] \n",
    "list2 = [8, 10.1, 12, 14] \n",
    "list3 = [16, 18, 20, 22.1] \n",
    "\n",
    "arr2 = np.array([list1, list2, list3],dtype=float)\n",
    "arr2"
   ]
  },
  {
   "cell_type": "markdown",
   "id": "859dace8-1a9b-4f8c-b3e3-540794659d46",
   "metadata": {},
   "source": [
    "### Converting the attay to int64"
   ]
  },
  {
   "cell_type": "code",
   "execution_count": 17,
   "id": "806af840-ab66-4a65-9a00-b4d270117b6d",
   "metadata": {},
   "outputs": [
    {
     "data": {
      "text/plain": [
       "array([[ 2,  3,  4,  6],\n",
       "       [ 8, 10, 12, 14],\n",
       "       [16, 18, 20, 22]], dtype=int64)"
      ]
     },
     "execution_count": 17,
     "metadata": {},
     "output_type": "execute_result"
    }
   ],
   "source": [
    "arr3 = arr2.astype(np.int64)\n",
    "arr3"
   ]
  },
  {
   "cell_type": "markdown",
   "id": "01e55b58-57ce-4e91-8cd8-3d17bef9132a",
   "metadata": {},
   "source": [
    "## Is it possible to create an array of both floats and integers?"
   ]
  },
  {
   "cell_type": "markdown",
   "id": "ea1c9658-4087-4605-b2dc-d5fa3d3f0dca",
   "metadata": {},
   "source": [
    "In NumPy, an array is a homogeneous data structure,\n",
    "which means that it can only hold values of a single data\n",
    "type. Like we have seen above, if you have a list of floats\n",
    "and integers and you want to convert it to an array, by\n",
    "default it will be converted to the float data type."
   ]
  },
  {
   "cell_type": "code",
   "execution_count": null,
   "id": "6a267f05-bb29-47f4-9d3c-fd00f794a35a",
   "metadata": {},
   "outputs": [],
   "source": []
  }
 ],
 "metadata": {
  "kernelspec": {
   "display_name": "Python 3 (ipykernel)",
   "language": "python",
   "name": "python3"
  },
  "language_info": {
   "codemirror_mode": {
    "name": "ipython",
    "version": 3
   },
   "file_extension": ".py",
   "mimetype": "text/x-python",
   "name": "python",
   "nbconvert_exporter": "python",
   "pygments_lexer": "ipython3",
   "version": "3.12.0"
  }
 },
 "nbformat": 4,
 "nbformat_minor": 5
}
